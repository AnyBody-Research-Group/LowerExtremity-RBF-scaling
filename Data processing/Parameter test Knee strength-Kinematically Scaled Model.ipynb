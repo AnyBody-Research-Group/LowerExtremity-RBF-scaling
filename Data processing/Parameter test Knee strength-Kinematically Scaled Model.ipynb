{
 "metadata": {
  "name": "",
  "signature": "sha256:8df159545679e0b003792ee14d3c409d7638131d00efceda63ab1843969c13dd"
 },
 "nbformat": 3,
 "nbformat_minor": 0,
 "worksheets": [
  {
   "cells": [
    {
     "cell_type": "code",
     "collapsed": false,
     "input": [
      "import os\n",
      "import os.path as op\n",
      "import numpy as np\n",
      "from anypytools.generate_macros import MacroGenerator, MonteCarloMacroGenerator\n",
      "from anypytools.abcutils import AnyPyProcess\n",
      "\n",
      "basefolder = os.path.expanduser('~/Documents/GitHub/LowerExtremity-RBF-scaling')\n",
      "trialfolder =  os.path.join(basefolder, 'Subjects/SC/Gait Trials/SC_ngait_og5')\n",
      "modelfolder = os.path.join(basefolder,'KinematicScaledModel')\n",
      "statictrial = os.path.join(basefolder,'Subjects/SC/Static Trials/SC_staticfor_again1')\n",
      "\n",
      "workfolder = 'Z:/model_output/Sensitivity study'\n",
      "app = AnyPyProcess( )\n"
     ],
     "language": "python",
     "metadata": {},
     "outputs": [],
     "prompt_number": 34
    },
    {
     "cell_type": "code",
     "collapsed": false,
     "input": [
      "\n",
      "mg = MacroGenerator(number_of_macros=4)\n",
      "pathdef = {'MODEL_TYPE': modelfolder}\n",
      "\n",
      "mg.add_load(os.path.join(trialfolder,'InversDynamics.main.any'), path_kw = pathdef)\n",
      "mg.add_run_operation('Main.Load_JointTrialParameters')\n",
      "mg.add_run_operation('Main.LoadFootJointAxis')\n",
      "mg.add_run_operation('LoadStaticMarkerFrames')\n",
      "strength_factors =  np.linspace(1,0.3,4).tolist()                              \n",
      "mg.add_set_value('Main.AnyBodyGaitAppModel.InverseDynamicStudy.ReduceKneeStrengh.k', strength_factors )\n",
      "mg.add_update_values()\n",
      "mg.add_run_operation('Main.AnyBodyGaitAppModel.InverseDynamicStudy.ReduceKneeStrengh')\n",
      "mg.add_update_values()\n",
      "mg.add_run_operation('Main.AnyBodyGaitAppModel.InverseDynamicStudy.InitialConditions')\n",
      "mg.add_run_operation('Main.AnyBodyGaitAppModel.HumanModel.Calibration.CalibrationSequence')\n",
      "mg.add_run_operation('Main.AnyBodyGaitAppModel.InverseDynamicStudy.InverseDynamics')\n",
      "\n",
      "dump_vars      = ['HipFlexion.Pos', 'HipAdduction.Pos', 'HipInternalRotation.Pos','KneeFlexion.Pos','KneeAdduction.Pos', \n",
      "                  'KneeInternalRotation.Pos','AnkleDorsiFlexion.Pos', 'AnkleInversion.Pos','AnkleInternalRotation.Pos', \n",
      "                  'HipFlexion.M_Projected', 'HipAdduction.M_Projected','HipInternalRotation.M_Projected','KneeFlexion.M_Projected',\n",
      "                  'KneeAdduction.M_Projected','KneeInternalRotation.M_Projected','AnkleDorsiFlexion.M_Projected',\n",
      "                  'AnkleInversion.M_Projected', 'AnkleInternalRotation.M_Projected'] \n",
      "for var in dump_vars:\n",
      "    mg.add_dump('Main.AnyBodyGaitAppModel.InverseDynamicStudy.Output.JointAnglesAndMoments.Left.'+ var)\n",
      "mg.add_dump('Main.AnyBodyGaitAppModel.InverseDynamicStudy.Output.Validation.KneeForces.TotalContactForce.cForceBodyWeight')\n",
      "mg.add_dump('Main.AnyBodyGaitAppModel.InverseDynamicStudy.Output.Validation.KneeForces.TotalContactForce.mForceBodyWeight')\n",
      "mg.add_dump('Main.AnyBodyGaitAppModel.InverseDynamicStudy.Output.Abscissa.t')\n",
      "\n",
      "\n",
      "macro = mg.generate_macros()"
     ],
     "language": "python",
     "metadata": {},
     "outputs": [],
     "prompt_number": 36
    },
    {
     "cell_type": "code",
     "collapsed": false,
     "input": [
      "results = app.start_macro(macro, [workfolder])"
     ],
     "language": "python",
     "metadata": {},
     "outputs": [
      {
       "output_type": "stream",
       "stream": "stdout",
       "text": [
        "\r",
        " [****************100%******************]  4 of 4 complete"
       ]
      },
      {
       "output_type": "stream",
       "stream": "stdout",
       "text": [
        "\n"
       ]
      },
      {
       "html": [
        "Total time: 525 seconds"
       ],
       "metadata": {},
       "output_type": "display_data",
       "text": [
        "<IPython.core.display.HTML at 0xa4c9ef0>"
       ]
      }
     ],
     "prompt_number": 37
    },
    {
     "cell_type": "code",
     "collapsed": false,
     "input": [
      "import plotly.plotly as py  # (New syntax!) tools to communicate with Plotly's server\n",
      "import plotly.tools as tls  # (NEW!) useful Python/Plotly tools \n",
      "from plotly.graph_objs import Scatter, Data, Figure, Line, XAxis, YAxis, Layout\n",
      "\n",
      "my_creds = tls.get_credentials_file()                  # read credentials\n",
      "py.sign_in(my_creds['username'], my_creds['api_key'])  # (New syntax!) Plotly sign in\n",
      "t = 'Main.AnyBodyGaitAppModel.InverseDynamicStudy.Output.Abscissa.t'\n",
      "cForceBodyWeight = 'Main.AnyBodyGaitAppModel.InverseDynamicStudy.Output.Validation.KneeForces.TotalContactForce.cForceBodyWeight'\n",
      "mForceBodyWeight = 'Main.AnyBodyGaitAppModel.InverseDynamicStudy.Output.Validation.KneeForces.TotalContactForce.mForceBodyWeight'\n",
      "\n",
      "\n",
      "curves = [Scatter(name = 'Measured',\n",
      "                  x = results[0][t],\n",
      "                  y = results[0][mForceBodyWeight],\n",
      "                  line = Line(width = 5, color = 'rgba(200,200,200,100)') )]\n",
      "\n",
      "curves.extend([Scatter(name = label,\n",
      "                        x = result[t],\n",
      "                        y = result[cForceBodyWeight])  for (result, label) in zip(results,labels)])\n",
      "\n",
      "layout = Layout(title = 'Knee Strength Factor', \n",
      "                xaxis1 = XAxis(title= 'time (s)'), \n",
      "                yaxis1 = YAxis(title = 'Total knee force (% Body weight)'))\n",
      "\n",
      "py_data = Data(curves)\n",
      "py_fig = Figure()\n",
      "py_fig['data'] = py_data\n",
      "py_fig['layout']= layout\n",
      "\n",
      "py.iplot(py_fig,filename = 'Kinematically_scaled_model_ParameterStudy_KneeStrength1',world_readable = False)\n"
     ],
     "language": "python",
     "metadata": {},
     "outputs": [
      {
       "html": [
        "<iframe id=\"igraph\" scrolling=\"no\" style=\"border:none;\"seamless=\"seamless\" src=\"https://plot.ly/~MortenEnemarkLund/3\" height=\"525\" width=\"100%\"></iframe>"
       ],
       "metadata": {},
       "output_type": "display_data",
       "text": [
        "<IPython.core.display.HTML at 0x9c86438>"
       ]
      }
     ],
     "prompt_number": 54
    },
    {
     "cell_type": "code",
     "collapsed": false,
     "input": [
      "%matplotlib inline\n",
      "import matplotlib.pyplot as plt\n",
      "mpl_fig = plt.figure(figsize=(12,6))\n",
      "plt.plot(result[0]['Main.AnyBodyGaitAppModel.InverseDynamicStudy.Output.Validation.KneeForces.TotalContactForce.mForceBodyWeight'],\n",
      "         linewidth=3, label = 'Measured')\n",
      "\n",
      "labels = ['strength factor: {:.2f}'.format( factor ) for factor in strength_factors ]\n",
      "\n",
      "for res, label in zip(result[::2],labels[::2]):\n",
      "    plt.plot(res['Main.AnyBodyGaitAppModel.InverseDynamicStudy.Output.Validation.KneeForces.TotalContactForce.cForceBodyWeight'],\n",
      "             label =label)\n",
      "\n",
      "import plotly.plotly as py  # (New syntax!) tools to communicate with Plotly's server\n",
      "import plotly.tools as tls  # (NEW!) useful Python/Plotly tools \n",
      "my_creds = tls.get_credentials_file()                  # read credentials\n",
      "py.sign_in(my_creds['username'], my_creds['api_key'])  # (New syntax!) Plotly sign in\n",
      "\n",
      "# Convert mpl fig obj to plotly fig obj, resize to plotly's default\n",
      "plotly_fig = tls.mpl_to_plotly(mpl_fig,strip_style=True, resize=True)\n",
      "\n",
      "# (*) Import legend graph object\n",
      "from plotly.graph_objs import Legend\n",
      "\n",
      "# Add legend, place it at the top right corner of the plot\n",
      "plotly_fig['layout'].update(dict(showlegend=True,\n",
      "                                  legend= Legend(x=1,y=1)))\n",
      "\n",
      "# Send updated figure object to Plotly, show result in notebook\n",
      "py.iplot(plotly_fig, filename='Kinematically_scaled_model_ParameterStudy_KneeStrength')\n"
     ],
     "language": "python",
     "metadata": {},
     "outputs": [
      {
       "ename": "KeyError",
       "evalue": "0",
       "output_type": "pyerr",
       "traceback": [
        "\u001b[1;31m---------------------------------------------------------------------------\u001b[0m\n\u001b[1;31mKeyError\u001b[0m                                  Traceback (most recent call last)",
        "\u001b[1;32m<ipython-input-44-fdcaabc57ac5>\u001b[0m in \u001b[0;36m<module>\u001b[1;34m()\u001b[0m\n\u001b[0;32m      2\u001b[0m \u001b[1;32mimport\u001b[0m \u001b[0mmatplotlib\u001b[0m\u001b[1;33m.\u001b[0m\u001b[0mpyplot\u001b[0m \u001b[1;32mas\u001b[0m \u001b[0mplt\u001b[0m\u001b[1;33m\u001b[0m\u001b[0m\n\u001b[0;32m      3\u001b[0m \u001b[0mmpl_fig\u001b[0m \u001b[1;33m=\u001b[0m \u001b[0mplt\u001b[0m\u001b[1;33m.\u001b[0m\u001b[0mfigure\u001b[0m\u001b[1;33m(\u001b[0m\u001b[0mfigsize\u001b[0m\u001b[1;33m=\u001b[0m\u001b[1;33m(\u001b[0m\u001b[1;36m12\u001b[0m\u001b[1;33m,\u001b[0m\u001b[1;36m6\u001b[0m\u001b[1;33m)\u001b[0m\u001b[1;33m)\u001b[0m\u001b[1;33m\u001b[0m\u001b[0m\n\u001b[1;32m----> 4\u001b[1;33m plt.plot(result[0]['Main.AnyBodyGaitAppModel.InverseDynamicStudy.Output.Validation.KneeForces.TotalContactForce.mForceBodyWeight'],\n\u001b[0m\u001b[0;32m      5\u001b[0m          linewidth=3, label = 'Measured')\n\u001b[0;32m      6\u001b[0m \u001b[1;33m\u001b[0m\u001b[0m\n",
        "\u001b[1;31mKeyError\u001b[0m: 0"
       ]
      },
      {
       "metadata": {},
       "output_type": "display_data",
       "text": [
        "<matplotlib.figure.Figure at 0x132f9c88>"
       ]
      }
     ],
     "prompt_number": 44
    },
    {
     "cell_type": "code",
     "collapsed": false,
     "input": [],
     "language": "python",
     "metadata": {},
     "outputs": []
    }
   ],
   "metadata": {}
  }
 ]
}