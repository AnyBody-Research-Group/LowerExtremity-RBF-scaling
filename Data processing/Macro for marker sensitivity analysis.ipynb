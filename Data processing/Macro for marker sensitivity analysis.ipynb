{
 "metadata": {
  "name": "",
  "signature": "sha256:48d3e876305cbea378cb2a38b7a6d0c1b496426fd757224b75cb038eec8dfa7e"
 },
 "nbformat": 3,
 "nbformat_minor": 0,
 "worksheets": [
  {
   "cells": [
    {
     "cell_type": "markdown",
     "metadata": {},
     "source": [
      "# A sensitivity for fixed marker positions\n",
      "****\n",
      "\n",
      "1. Kinematics and model optimization \n",
      "    1. Add random uniform offset to fixed markers\n",
      "    2. Run kinematic optimization and save design\n",
      "    3. Run kinematics and save joint angles. \n",
      "2. Register anatomical frames\n",
      "    1. Load scaled model with standing reference recording\n",
      "    2. Solve over determined kinematic for one time frame. \n",
      "    3. Register markerb-based anatomical frames with the scaled model segments\n",
      "3. Run inverse dynamics\n",
      "    1. Load inverse dynamic model with the trial data\n",
      "    2. Reload the optimized parameters\n",
      "    3. Reload the marker-based anatomical frames\n",
      "    4. Run Inverse dynamic analysis\n",
      "    5. Dump the joint moments to be read into python"
     ]
    },
    {
     "cell_type": "code",
     "collapsed": false,
     "input": [
      "import os\n",
      "import os.path as op\n",
      "import numpy as np\n",
      "from anypytools.generate_macros import MacroGenerator, MonteCarloMacroGenerator\n",
      "from anypytools.abcutils import AnyPyProcess\n",
      "\n",
      "basefolder = os.path.expanduser('~/Documents/GitHub/LowerExtremity-RBF-scaling')\n",
      "trialfolder =  os.path.join(basefolder, 'Subjects/SC/Gait Trials/SC_ngait_og5')\n",
      "modelfolder = os.path.join(basefolder,'LinearScaledModel')\n",
      "statictrial = os.path.join(basefolder,'Subjects/SC/Static Trials/SC_staticfor_again1')"
     ],
     "language": "python",
     "metadata": {},
     "outputs": [],
     "prompt_number": 1
    },
    {
     "cell_type": "markdown",
     "metadata": {},
     "source": [
      "First we load the current marker positions so we can generate new marker positions with added random offsets. \n",
      "The following macro will do this."
     ]
    },
    {
     "cell_type": "code",
     "collapsed": false,
     "input": [
      "mg = MacroGenerator()\n",
      "mg.add_load( op.join(trialfolder, 'Kinematics.main.any'), path_kw = {'MODEL_TYPE': modelfolder})\n",
      "\n",
      "markerlist = ['RAsis', 'LAsis','RPsis','LPsis','RPatella','LPatella','RHeel','LHeel','RToe', 'LToe','RMidfootLateral','LMidfootLateral'   ]\n",
      "for marker in markerlist:\n",
      "    mg.add_dump('Main.ModelSetup.{0}.sRelOptEdit'.format(marker))\n",
      "\n",
      "macro = mg.generate_macros()"
     ],
     "language": "python",
     "metadata": {},
     "outputs": [],
     "prompt_number": 2
    },
    {
     "cell_type": "markdown",
     "metadata": {},
     "source": [
      "Now we just run this macro and caputure the result:"
     ]
    },
    {
     "cell_type": "code",
     "collapsed": false,
     "input": [
      "app = AnyPyProcess( )\n",
      "current_markers = app.start_macro(macro)[0]\n",
      "current_markers"
     ],
     "language": "python",
     "metadata": {},
     "outputs": [
      {
       "output_type": "stream",
       "stream": "stdout",
       "text": [
        "\r",
        " [****************100%******************]  1 of 1 complete"
       ]
      },
      {
       "output_type": "stream",
       "stream": "stdout",
       "text": [
        "\n"
       ]
      },
      {
       "html": [
        "Total time: 8 seconds"
       ],
       "metadata": {},
       "output_type": "display_data",
       "text": [
        "<IPython.core.display.HTML at 0x9721198>"
       ]
      },
      {
       "metadata": {},
       "output_type": "pyout",
       "prompt_number": 3,
       "text": [
        "{u'Main.ModelSetup.LAsis.sRelOptEdit': array([ 0.1300804 , -0.03009163, -0.1312    ]),\n",
        " u'Main.ModelSetup.LHeel.sRelOptEdit': array([-0.03104974,  0.        , -0.015     ]),\n",
        " u'Main.ModelSetup.LMidfootLateral.sRelOptEdit': array([ 0.177     , -0.015     , -0.07045269]),\n",
        " u'Main.ModelSetup.LPatella.sRelOptEdit': array([ 0.075, -0.005, -0.02 ]),\n",
        " u'Main.ModelSetup.LPsis.sRelOptEdit': array([-0.06192611, -0.01914715, -0.03      ]),\n",
        " u'Main.ModelSetup.LToe.sRelOptEdit': array([ 0.28 ,  0.015, -0.01 ]),\n",
        " u'Main.ModelSetup.RAsis.sRelOptEdit': array([ 0.1300804 , -0.03009163,  0.1312    ]),\n",
        " u'Main.ModelSetup.RHeel.sRelOptEdit': array([-0.03104974,  0.        ,  0.015     ]),\n",
        " u'Main.ModelSetup.RMidfootLateral.sRelOptEdit': array([ 0.177     , -0.015     ,  0.07045269]),\n",
        " u'Main.ModelSetup.RPatella.sRelOptEdit': array([ 0.075, -0.005,  0.02 ]),\n",
        " u'Main.ModelSetup.RPsis.sRelOptEdit': array([-0.06192611, -0.01914715,  0.03      ]),\n",
        " u'Main.ModelSetup.RToe.sRelOptEdit': array([ 0.28 ,  0.015,  0.01 ])}"
       ]
      }
     ],
     "prompt_number": 3
    },
    {
     "cell_type": "code",
     "collapsed": false,
     "input": [
      "np.random.seed(1)\n",
      "mg = MonteCarloMacroGenerator(number_of_macros=10, counter_token = '{ID}')\n",
      "pathdef = {'MODEL_TYPE': modelfolder,\n",
      "           'TRUNK_DRIVER_FILE':'Tmp/MC_{ID}_euler_trunk.txt',\n",
      "           'RLEG_DRIVER_FILE': 'Tmp/MC_{ID}_euler_rightleg.txt',\n",
      "           'LLEG_DRIVER_FILE': 'Tmp/MC_{ID}_euler_leftleg.txt'}\n",
      "\n",
      "# Load kinematic model and run it with new marker values\n",
      "mg.add_load( op.join(trialfolder, 'Kinematics.main.any'), path_kw = pathdef)\n",
      "for name, pos in current_markers.items():\n",
      "    mg.add_set_value_random_uniform( name, pos, np.array([0.02,0.02,0.02]) )\n",
      "mg.add_update_values()\n",
      "mg.add_run_operation('Main.Studies.ParameterIdentification.ParameterOptimization')\n",
      "mg.add_save_design('Main.Studies.ParameterIdentification', 'Tmp/MC_{ID}-OptimizedParameters.txt')\n",
      "mg.add_run_operation('Main.Studies.MotionOptimization.Kinematics')\n",
      "\n",
      "# Register the static marker frames\n",
      "mg.add_load( os.path.join(statictrial,'FindStaticMarkerPos.main.any')    )\n",
      "mg.add_set_value('Main.Studies.StaticStudy.StaticPos.StaticFramesFileName', 'Tmp/MC_{ID}-StaticFrames.anyset')\n",
      "mg.add_update_values()\n",
      "mg.add_load_design('Main.Studies.ParameterIdentification', 'Tmp/MC_{ID}-OptimizedParameters.txt' )\n",
      "mg.add_run_operation('Main.Studies.StaticStudy.InitialConditions')\n",
      "\n",
      "# Run the inverse dynamic model\n",
      "mg.add_load( op.join(trialfolder,'InversDynamics.main.any'),path_kw = pathdef, define_kw ={'EXCLUDE_ALL_MUSCLES':None}  )\n",
      "mg.add_load_values('Tmp/MC_{ID}-StaticFrames.anyset')\n",
      "mg.add_update_values()\n",
      "mg.add_load_design('Main.Studies.LoadParametersOptimizationResults', 'Tmp/MC_{ID}-OptimizedParameters.txt')\n",
      "mg.add_run_operation('Main.Studies.InverseDynamicStudy.InverseDynamics')\n",
      "\n",
      "dump_vars      = ['HipFlexion.Pos', 'HipAdduction.Pos', 'HipInternalRotation.Pos','KneeFlexion.Pos','KneeAdduction.Pos', \n",
      "                  'KneeInternalRotation.Pos','AnkleDorsiFlexion.Pos', 'AnkleInversion.Pos','AnkleInternalRotation.Pos', \n",
      "                  'HipFlexion.M_Projected', 'HipAdduction.M_Projected','HipInternalRotation.M_Projected','KneeFlexion.M_Projected',\n",
      "                  'KneeAdduction.M_Projected','KneeInternalRotation.M_Projected','AnkleDorsiFlexion.M_Projected',\n",
      "                  'AnkleInversion.M_Projected', 'AnkleInternalRotation.M_Projected'] \n",
      "for var in dump_vars:\n",
      "    mg.add_dump('Main.Studies.InverseDynamicStudy.Output.JointAnglesAndMoments.Left.'+ var)\n",
      "mg.add_dump('Main.Studies.InverseDynamicStudy.Output.Validation.KneeForces.TotalContactForce.cForceBodyWeight')\n",
      "mg.add_dump('Main.Studies.InverseDynamicStudy.Output.Validation.KneeForces.TotalContactForce.mForceBodyWeight')\n"
     ],
     "language": "python",
     "metadata": {},
     "outputs": [],
     "prompt_number": 5
    },
    {
     "cell_type": "code",
     "collapsed": false,
     "input": [
      "%cd Z:/model_output/Sensitivity study"
     ],
     "language": "python",
     "metadata": {},
     "outputs": [
      {
       "output_type": "stream",
       "stream": "stdout",
       "text": [
        "Z:\\model_output\\Sensitivity study\n"
       ]
      }
     ],
     "prompt_number": 6
    },
    {
     "cell_type": "code",
     "collapsed": false,
     "input": [
      "import shelve\n",
      "app = AnyPyProcess(num_processes = 2, \n",
      "                   anybodycon_path = 'C:\\\\Program Files\\\\AnyBody Technology\\\\AnyBody.6.0\\\\anybodycon.exe', \n",
      "                   ignore_errors = 'SCR.SCN9')\n",
      "folderlist = ['Z:/model_output/Sensitivity study']\n",
      "\n",
      "for macrolist in mg.generate_macros(batch_size=2):\n",
      "    output = app.start_macro(macrolist, folderlist)\n",
      "    db = shelve.open('Z:/model_output/Sensitivity study/SensitivtyStudyOutput_linear_model.db')\n",
      "    temp = []\n",
      "    if 'Results' in db:\n",
      "        temp = db['Results']\n",
      "    temp.extend(output)\n",
      "    db['Results'] = temp\n",
      "    db.close()    \n",
      "        "
     ],
     "language": "python",
     "metadata": {},
     "outputs": [
      {
       "output_type": "stream",
       "stream": "stdout",
       "text": [
        "\r",
        " [****************100%******************]  2 of 2 complete"
       ]
      },
      {
       "output_type": "stream",
       "stream": "stdout",
       "text": [
        "\n"
       ]
      },
      {
       "html": [
        "Total time: 860 seconds"
       ],
       "metadata": {},
       "output_type": "display_data",
       "text": [
        "<IPython.core.display.HTML at 0x9dd16a0>"
       ]
      },
      {
       "ename": "DBError",
       "evalue": "(14, 'Bad address')",
       "output_type": "pyerr",
       "traceback": [
        "\u001b[1;31m---------------------------------------------------------------------------\u001b[0m\n\u001b[1;31mDBError\u001b[0m                                   Traceback (most recent call last)",
        "\u001b[1;32m<ipython-input-7-fb65584764bb>\u001b[0m in \u001b[0;36m<module>\u001b[1;34m()\u001b[0m\n\u001b[0;32m      7\u001b[0m \u001b[1;32mfor\u001b[0m \u001b[0mmacrolist\u001b[0m \u001b[1;32min\u001b[0m \u001b[0mmg\u001b[0m\u001b[1;33m.\u001b[0m\u001b[0mgenerate_macros\u001b[0m\u001b[1;33m(\u001b[0m\u001b[0mbatch_size\u001b[0m\u001b[1;33m=\u001b[0m\u001b[1;36m2\u001b[0m\u001b[1;33m)\u001b[0m\u001b[1;33m:\u001b[0m\u001b[1;33m\u001b[0m\u001b[0m\n\u001b[0;32m      8\u001b[0m     \u001b[0moutput\u001b[0m \u001b[1;33m=\u001b[0m \u001b[0mapp\u001b[0m\u001b[1;33m.\u001b[0m\u001b[0mstart_macro\u001b[0m\u001b[1;33m(\u001b[0m\u001b[0mmacrolist\u001b[0m\u001b[1;33m,\u001b[0m \u001b[0mfolderlist\u001b[0m\u001b[1;33m)\u001b[0m\u001b[1;33m\u001b[0m\u001b[0m\n\u001b[1;32m----> 9\u001b[1;33m     \u001b[0mdb\u001b[0m \u001b[1;33m=\u001b[0m \u001b[0mshelve\u001b[0m\u001b[1;33m.\u001b[0m\u001b[0mopen\u001b[0m\u001b[1;33m(\u001b[0m\u001b[1;34m'Z:/model_output/Sensitivity study/SensitivtyStudyOutput.db'\u001b[0m\u001b[1;33m)\u001b[0m\u001b[1;33m\u001b[0m\u001b[0m\n\u001b[0m\u001b[0;32m     10\u001b[0m     \u001b[0mtemp\u001b[0m \u001b[1;33m=\u001b[0m \u001b[1;33m[\u001b[0m\u001b[1;33m]\u001b[0m\u001b[1;33m\u001b[0m\u001b[0m\n\u001b[0;32m     11\u001b[0m     \u001b[1;32mif\u001b[0m \u001b[1;34m'Results'\u001b[0m \u001b[1;32min\u001b[0m \u001b[0mdb\u001b[0m\u001b[1;33m:\u001b[0m\u001b[1;33m\u001b[0m\u001b[0m\n",
        "\u001b[1;32mc:\\Users\\Morten\\Anaconda\\lib\\shelve.pyc\u001b[0m in \u001b[0;36mopen\u001b[1;34m(filename, flag, protocol, writeback)\u001b[0m\n\u001b[0;32m    237\u001b[0m     \"\"\"\n\u001b[0;32m    238\u001b[0m \u001b[1;33m\u001b[0m\u001b[0m\n\u001b[1;32m--> 239\u001b[1;33m     \u001b[1;32mreturn\u001b[0m \u001b[0mDbfilenameShelf\u001b[0m\u001b[1;33m(\u001b[0m\u001b[0mfilename\u001b[0m\u001b[1;33m,\u001b[0m \u001b[0mflag\u001b[0m\u001b[1;33m,\u001b[0m \u001b[0mprotocol\u001b[0m\u001b[1;33m,\u001b[0m \u001b[0mwriteback\u001b[0m\u001b[1;33m)\u001b[0m\u001b[1;33m\u001b[0m\u001b[0m\n\u001b[0m",
        "\u001b[1;32mc:\\Users\\Morten\\Anaconda\\lib\\shelve.pyc\u001b[0m in \u001b[0;36m__init__\u001b[1;34m(self, filename, flag, protocol, writeback)\u001b[0m\n\u001b[0;32m    221\u001b[0m     \u001b[1;32mdef\u001b[0m \u001b[0m__init__\u001b[0m\u001b[1;33m(\u001b[0m\u001b[0mself\u001b[0m\u001b[1;33m,\u001b[0m \u001b[0mfilename\u001b[0m\u001b[1;33m,\u001b[0m \u001b[0mflag\u001b[0m\u001b[1;33m=\u001b[0m\u001b[1;34m'c'\u001b[0m\u001b[1;33m,\u001b[0m \u001b[0mprotocol\u001b[0m\u001b[1;33m=\u001b[0m\u001b[0mNone\u001b[0m\u001b[1;33m,\u001b[0m \u001b[0mwriteback\u001b[0m\u001b[1;33m=\u001b[0m\u001b[0mFalse\u001b[0m\u001b[1;33m)\u001b[0m\u001b[1;33m:\u001b[0m\u001b[1;33m\u001b[0m\u001b[0m\n\u001b[0;32m    222\u001b[0m         \u001b[1;32mimport\u001b[0m \u001b[0manydbm\u001b[0m\u001b[1;33m\u001b[0m\u001b[0m\n\u001b[1;32m--> 223\u001b[1;33m         \u001b[0mShelf\u001b[0m\u001b[1;33m.\u001b[0m\u001b[0m__init__\u001b[0m\u001b[1;33m(\u001b[0m\u001b[0mself\u001b[0m\u001b[1;33m,\u001b[0m \u001b[0manydbm\u001b[0m\u001b[1;33m.\u001b[0m\u001b[0mopen\u001b[0m\u001b[1;33m(\u001b[0m\u001b[0mfilename\u001b[0m\u001b[1;33m,\u001b[0m \u001b[0mflag\u001b[0m\u001b[1;33m)\u001b[0m\u001b[1;33m,\u001b[0m \u001b[0mprotocol\u001b[0m\u001b[1;33m,\u001b[0m \u001b[0mwriteback\u001b[0m\u001b[1;33m)\u001b[0m\u001b[1;33m\u001b[0m\u001b[0m\n\u001b[0m\u001b[0;32m    224\u001b[0m \u001b[1;33m\u001b[0m\u001b[0m\n\u001b[0;32m    225\u001b[0m \u001b[1;33m\u001b[0m\u001b[0m\n",
        "\u001b[1;32mc:\\Users\\Morten\\Anaconda\\lib\\anydbm.pyc\u001b[0m in \u001b[0;36mopen\u001b[1;34m(file, flag, mode)\u001b[0m\n\u001b[0;32m     83\u001b[0m     \u001b[1;32melse\u001b[0m\u001b[1;33m:\u001b[0m\u001b[1;33m\u001b[0m\u001b[0m\n\u001b[0;32m     84\u001b[0m         \u001b[0mmod\u001b[0m \u001b[1;33m=\u001b[0m \u001b[0m__import__\u001b[0m\u001b[1;33m(\u001b[0m\u001b[0mresult\u001b[0m\u001b[1;33m)\u001b[0m\u001b[1;33m\u001b[0m\u001b[0m\n\u001b[1;32m---> 85\u001b[1;33m     \u001b[1;32mreturn\u001b[0m \u001b[0mmod\u001b[0m\u001b[1;33m.\u001b[0m\u001b[0mopen\u001b[0m\u001b[1;33m(\u001b[0m\u001b[0mfile\u001b[0m\u001b[1;33m,\u001b[0m \u001b[0mflag\u001b[0m\u001b[1;33m,\u001b[0m \u001b[0mmode\u001b[0m\u001b[1;33m)\u001b[0m\u001b[1;33m\u001b[0m\u001b[0m\n\u001b[0m",
        "\u001b[1;32mc:\\Users\\Morten\\Anaconda\\lib\\dbhash.pyc\u001b[0m in \u001b[0;36mopen\u001b[1;34m(file, flag, mode)\u001b[0m\n\u001b[0;32m     16\u001b[0m \u001b[1;33m\u001b[0m\u001b[0m\n\u001b[0;32m     17\u001b[0m \u001b[1;32mdef\u001b[0m \u001b[0mopen\u001b[0m\u001b[1;33m(\u001b[0m\u001b[0mfile\u001b[0m\u001b[1;33m,\u001b[0m \u001b[0mflag\u001b[0m \u001b[1;33m=\u001b[0m \u001b[1;34m'r'\u001b[0m\u001b[1;33m,\u001b[0m \u001b[0mmode\u001b[0m\u001b[1;33m=\u001b[0m\u001b[1;36m0666\u001b[0m\u001b[1;33m)\u001b[0m\u001b[1;33m:\u001b[0m\u001b[1;33m\u001b[0m\u001b[0m\n\u001b[1;32m---> 18\u001b[1;33m     \u001b[1;32mreturn\u001b[0m \u001b[0mbsddb\u001b[0m\u001b[1;33m.\u001b[0m\u001b[0mhashopen\u001b[0m\u001b[1;33m(\u001b[0m\u001b[0mfile\u001b[0m\u001b[1;33m,\u001b[0m \u001b[0mflag\u001b[0m\u001b[1;33m,\u001b[0m \u001b[0mmode\u001b[0m\u001b[1;33m)\u001b[0m\u001b[1;33m\u001b[0m\u001b[0m\n\u001b[0m",
        "\u001b[1;32mc:\\Users\\Morten\\Anaconda\\lib\\bsddb\\__init__.pyc\u001b[0m in \u001b[0;36mhashopen\u001b[1;34m(file, flag, mode, pgsize, ffactor, nelem, cachesize, lorder, hflags)\u001b[0m\n\u001b[0;32m    362\u001b[0m     \u001b[1;32mif\u001b[0m \u001b[0mffactor\u001b[0m \u001b[1;32mis\u001b[0m \u001b[1;32mnot\u001b[0m \u001b[0mNone\u001b[0m\u001b[1;33m:\u001b[0m   \u001b[0md\u001b[0m\u001b[1;33m.\u001b[0m\u001b[0mset_h_ffactor\u001b[0m\u001b[1;33m(\u001b[0m\u001b[0mffactor\u001b[0m\u001b[1;33m)\u001b[0m\u001b[1;33m\u001b[0m\u001b[0m\n\u001b[0;32m    363\u001b[0m     \u001b[1;32mif\u001b[0m \u001b[0mnelem\u001b[0m \u001b[1;32mis\u001b[0m \u001b[1;32mnot\u001b[0m \u001b[0mNone\u001b[0m\u001b[1;33m:\u001b[0m     \u001b[0md\u001b[0m\u001b[1;33m.\u001b[0m\u001b[0mset_h_nelem\u001b[0m\u001b[1;33m(\u001b[0m\u001b[0mnelem\u001b[0m\u001b[1;33m)\u001b[0m\u001b[1;33m\u001b[0m\u001b[0m\n\u001b[1;32m--> 364\u001b[1;33m     \u001b[0md\u001b[0m\u001b[1;33m.\u001b[0m\u001b[0mopen\u001b[0m\u001b[1;33m(\u001b[0m\u001b[0mfile\u001b[0m\u001b[1;33m,\u001b[0m \u001b[0mdb\u001b[0m\u001b[1;33m.\u001b[0m\u001b[0mDB_HASH\u001b[0m\u001b[1;33m,\u001b[0m \u001b[0mflags\u001b[0m\u001b[1;33m,\u001b[0m \u001b[0mmode\u001b[0m\u001b[1;33m)\u001b[0m\u001b[1;33m\u001b[0m\u001b[0m\n\u001b[0m\u001b[0;32m    365\u001b[0m     \u001b[1;32mreturn\u001b[0m \u001b[0m_DBWithCursor\u001b[0m\u001b[1;33m(\u001b[0m\u001b[0md\u001b[0m\u001b[1;33m)\u001b[0m\u001b[1;33m\u001b[0m\u001b[0m\n\u001b[0;32m    366\u001b[0m \u001b[1;33m\u001b[0m\u001b[0m\n",
        "\u001b[1;31mDBError\u001b[0m: (14, 'Bad address')"
       ]
      }
     ],
     "prompt_number": 7
    },
    {
     "cell_type": "code",
     "collapsed": false,
     "input": [],
     "language": "python",
     "metadata": {},
     "outputs": []
    }
   ],
   "metadata": {}
  }
 ]
}