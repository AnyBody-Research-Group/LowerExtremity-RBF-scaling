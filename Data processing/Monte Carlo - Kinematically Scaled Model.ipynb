{
 "metadata": {
  "name": "",
  "signature": "sha256:45e89709391b834b8649f9204f07eae83915202967c295759cc40f2f886e3c9a"
 },
 "nbformat": 3,
 "nbformat_minor": 0,
 "worksheets": [
  {
   "cells": [
    {
     "cell_type": "markdown",
     "metadata": {},
     "source": [
      "# A sensitivity for fixed marker positions\n",
      "****\n",
      "\n",
      "1. Joint trials and kinematic model \n",
      "    1. Run all joint trials\n",
      "    2. Run kinematic with optimized joint parameters\n",
      "2. Register anatomical frames\n",
      "    1. Load scaled model with standing reference recording\n",
      "    2. Solve over determined kinematic for one time frame. \n",
      "    3. Register markerb-based anatomical frames with the scaled model segments\n",
      "3. Run inverse dynamics\n",
      "    1. Load inverse dynamic model with the trial data\n",
      "    2. Reload the optimized parameters\n",
      "    3. Reload the marker-based anatomical frames\n",
      "    4. Run Inverse dynamic analysis\n",
      "    5. Dump the joint moments to be read into python"
     ]
    },
    {
     "cell_type": "code",
     "collapsed": false,
     "input": [
      "import os\n",
      "import os.path as op\n",
      "import numpy as np\n",
      "import shelve\n",
      "from anypytools.generate_macros import MacroGenerator, MonteCarloMacroGenerator\n",
      "from anypytools.abcutils import AnyPyProcess\n",
      "\n",
      "basefolder = op.expanduser('~/Documents/GitHub/LowerExtremity-RBF-scaling')\n",
      "trialfolder =  op.join(basefolder, 'Subjects/SC/Gait Trials/SC_ngait_og5')\n",
      "modelfolder = op.join(basefolder,'KinematicScaledModel')\n",
      "statictrial = op.join(basefolder,'Subjects/SC/Static Trials/SC_staticfor_again1')\n",
      "jointtrialfolder = op.join(basefolder,'Subjects/SC/Joint Trials')\n",
      "\n",
      "workfolder = 'Z:/model_output/Sensitivity study'\n",
      "\n",
      "app = AnyPyProcess( )"
     ],
     "language": "python",
     "metadata": {},
     "outputs": [],
     "prompt_number": 1
    },
    {
     "cell_type": "markdown",
     "metadata": {},
     "source": [
      "Run all joint trials"
     ]
    },
    {
     "cell_type": "code",
     "collapsed": false,
     "input": [
      "mg = MacroGenerator()\n",
      "mg.add_load('Kinematics.main.any')\n",
      "mg.add_run_operation('Main.JntParameterOptModel.AnatomicalStickFigureValues.Load_AnatomicalParameters')\n",
      "mg.add_run_operation('Main.Run_Kinematic_Optimization')\n",
      "\n",
      "app = AnyPyProcess( )\n",
      "# Run single joint trials\n",
      "app.start_macro(mg.generate_macros(), [jointtrialfolder], '(ankle|hip)' );\n",
      "\n",
      "# Run Multi joint trials \n",
      "app.start_macro(mg.generate_macros(), [jointtrialfolder], 'ngait_og5' );"
     ],
     "language": "python",
     "metadata": {},
     "outputs": [
      {
       "output_type": "stream",
       "stream": "stdout",
       "text": [
        "\r",
        " [****************100%******************]  1 of 1 complete"
       ]
      },
      {
       "output_type": "stream",
       "stream": "stdout",
       "text": [
        "\n"
       ]
      },
      {
       "html": [
        "Total time: 21 seconds"
       ],
       "metadata": {},
       "output_type": "display_data",
       "text": [
        "<IPython.core.display.HTML at 0x44cb8d0>"
       ]
      }
     ],
     "prompt_number": 2
    },
    {
     "cell_type": "markdown",
     "metadata": {},
     "source": [
      "Run the kinematic study"
     ]
    },
    {
     "cell_type": "code",
     "collapsed": false,
     "input": [
      "mg = MacroGenerator()\n",
      "pathdef = path_kw = {'MODEL_TYPE': modelfolder, 'H5_OUTPUT' : \"\" }\n",
      "mg.add_load('Kinematics.main.any', path_kw = pathdef)\n",
      "mg.add_run_operation('Main.Load_JointTrialParameters')\n",
      "mg.add_run_operation('Main.JntParameterOptModel.KinematicStudy.Kinematics')\n",
      "macro = mg.generate_macros()\n",
      "\n",
      "app.start_macro(macro, [trialfolder]);"
     ],
     "language": "python",
     "metadata": {},
     "outputs": [
      {
       "output_type": "stream",
       "stream": "stdout",
       "text": [
        "\r",
        " [****************100%******************]  1 of 1 complete"
       ]
      },
      {
       "output_type": "stream",
       "stream": "stdout",
       "text": [
        "\n"
       ]
      },
      {
       "html": [
        "Total time: 8 seconds"
       ],
       "metadata": {},
       "output_type": "display_data",
       "text": [
        "<IPython.core.display.HTML at 0x3942208>"
       ]
      }
     ],
     "prompt_number": 3
    },
    {
     "cell_type": "code",
     "collapsed": false,
     "input": [
      "mg = MacroGenerator()\n",
      "pathdef = path_kw = {'MODEL_TYPE': modelfolder, 'H5_OUTPUT' : \"\" }\n",
      "mg.add_load('FindStaticMarkerPos.main.any', path_kw = pathdef)\n",
      "mg.add_run_operation('Main.CalculateStaticCoordinateSystems')\n",
      "macro = mg.generate_macros()\n",
      "\n",
      "app.start_macro(macro, [statictrial] );"
     ],
     "language": "python",
     "metadata": {},
     "outputs": [
      {
       "output_type": "stream",
       "stream": "stdout",
       "text": [
        "\r",
        " [****************100%******************]  1 of 1 complete"
       ]
      },
      {
       "output_type": "stream",
       "stream": "stdout",
       "text": [
        "\n"
       ]
      },
      {
       "html": [
        "Total time: 3 seconds"
       ],
       "metadata": {},
       "output_type": "display_data",
       "text": [
        "<IPython.core.display.HTML at 0x38e6f60>"
       ]
      }
     ],
     "prompt_number": 4
    },
    {
     "cell_type": "heading",
     "level": 3,
     "metadata": {},
     "source": [
      "Make macro to caputure the current marker positions. "
     ]
    },
    {
     "cell_type": "code",
     "collapsed": false,
     "input": [
      "mg = MacroGenerator()\n",
      "\n",
      "mg.add_load(op.join(trialfolder, 'Kinematics.main.any'), path_kw = {'MODEL_TYPE': modelfolder})\n",
      "mg.add_dump('Main.SubjectSpecificData.MarkerPos.HeelMarker')\n",
      "mg.add_dump('Main.SubjectSpecificData.MarkerPos.ToeMarker')\n",
      "mg.add_dump('Main.SubjectSpecificData.MarkerPos.MidfootLateralMarker')\n",
      "mg.add_dump('Main.SubjectSpecificData.MarkerPos.RAsisMarker ')\n",
      "mg.add_dump('Main.SubjectSpecificData.MarkerPos.LAsisMarker ')\n",
      "mg.add_dump('Main.SubjectSpecificData.MarkerPos.RPsisMarker')\n",
      "mg.add_dump('Main.SubjectSpecificData.MarkerPos.LPsisMarker')\n",
      "\n",
      "current_markers = app.start_macro(mg.generate_macros(), [workfolder])[0]"
     ],
     "language": "python",
     "metadata": {},
     "outputs": [
      {
       "output_type": "stream",
       "stream": "stdout",
       "text": [
        "\r",
        " [****************100%******************]  1 of 1 complete"
       ]
      },
      {
       "output_type": "stream",
       "stream": "stdout",
       "text": [
        "\n"
       ]
      },
      {
       "html": [
        "Total time: 3 seconds"
       ],
       "metadata": {},
       "output_type": "display_data",
       "text": [
        "<IPython.core.display.HTML at 0x44d9908>"
       ]
      }
     ],
     "prompt_number": 5
    },
    {
     "cell_type": "code",
     "collapsed": false,
     "input": [
      "current_markers"
     ],
     "language": "python",
     "metadata": {},
     "outputs": [
      {
       "metadata": {},
       "output_type": "pyout",
       "prompt_number": 6,
       "text": [
        "{u'Main.SubjectSpecificData.MarkerPos.HeelMarker': array([-0.1 , -0.05,  0.  ]),\n",
        " u'Main.SubjectSpecificData.MarkerPos.LAsisMarker': array([ 0.1300804 , -0.03009163, -0.1312    ]),\n",
        " u'Main.SubjectSpecificData.MarkerPos.LPsisMarker': array([-0.06192611, -0.01914715, -0.03      ]),\n",
        " u'Main.SubjectSpecificData.MarkerPos.MidfootLateralMarker': array([ 0.108, -0.11 ,  0.065]),\n",
        " u'Main.SubjectSpecificData.MarkerPos.RAsisMarker': array([ 0.1300804 , -0.03009163,  0.1312    ]),\n",
        " u'Main.SubjectSpecificData.MarkerPos.RPsisMarker': array([-0.06192611, -0.01914715,  0.03      ]),\n",
        " u'Main.SubjectSpecificData.MarkerPos.ToeMarker': array([ 0.211, -0.08 , -0.01 ])}"
       ]
      }
     ],
     "prompt_number": 6
    },
    {
     "cell_type": "code",
     "collapsed": false,
     "input": [
      "def create_macro(number_of_macros =1, new_recruitment = True,\n",
      "                 reduce_knee_stregth = True, seed = 1, ):\n",
      "\n",
      "    np.random.seed(seed)\n",
      "    mg = MonteCarloMacroGenerator(number_of_macros=number_of_macros, counter_token = '{ID}')\n",
      "    pathdef = {'MODEL_TYPE': modelfolder}\n",
      "    if new_recruitment:\n",
      "        defs = {'INCLUDE_MUSCLE_WEIGHT_FACTOR':1}\n",
      "    else:\n",
      "        defs = {'INCLUDE_MUSCLE_WEIGHT_FACTOR':0}\n",
      "\n",
      "    mg.add_load(op.join(statictrial, 'FootPosition.main.any'), define_kw = defs, path_kw = pathdef )\n",
      "    for name, value in current_markers.items():\n",
      "        mg.add_set_value_random_uniform(name, value, np.array([0.02,0.02,0.02]))\n",
      "    mg.add_update_values()\n",
      "    mg.add_run_operation('Main.Load_JointTrialParameters')\n",
      "    mg.add_run_operation('Main.FootPosModel.FootPosStudy.Kinematics')\n",
      "    mg.add_run_operation('Main.FootPosModel.FootPosStudy.FootPar.SaveToAnySetFile.CopyValues')\n",
      "    # Saves both new pertubed maker positions and the foot positions\n",
      "    mg.add_save_values('Tmp/KinematicModel_Parameters{ID}.anyset')\n",
      "\n",
      "\n",
      "    mg.add_load(op.join(trialfolder,'InversDynamics.main.any'),define_kw = defs, path_kw = pathdef )\n",
      "    mg.add_run_operation('Main.Load_JointTrialParameters')\n",
      "    mg.add_load_values('Tmp/KinematicModel_Parameters{ID}.anyset')\n",
      "    mg.add_run_operation('LoadStaticMarkerFrames')\n",
      "    if reduce_knee_stregth:\n",
      "        mg.add_run_operation('Main.AnyBodyGaitAppModel.InverseDynamicStudy.ReduceKneeStrengh')\n",
      "    mg.add_update_values()\n",
      "    mg.add_run_operation('Main.AnyBodyGaitAppModel.InverseDynamicStudy.InitialConditions')\n",
      "    mg.add_run_operation('Main.AnyBodyGaitAppModel.HumanModel.Calibration.CalibrationSequence')\n",
      "    mg.add_run_operation('Main.AnyBodyGaitAppModel.InverseDynamicStudy.InverseDynamics')\n",
      "\n",
      "    dump_vars      = ['HipFlexion.Pos', 'HipAdduction.Pos', 'HipInternalRotation.Pos','KneeFlexion.Pos','KneeAdduction.Pos', \n",
      "                      'KneeInternalRotation.Pos','AnkleDorsiFlexion.Pos', 'AnkleInversion.Pos','AnkleInternalRotation.Pos', \n",
      "                      'HipFlexion.M_Projected', 'HipAdduction.M_Projected','HipInternalRotation.M_Projected','KneeFlexion.M_Projected',\n",
      "                      'KneeAdduction.M_Projected','KneeInternalRotation.M_Projected','AnkleDorsiFlexion.M_Projected',\n",
      "                      'AnkleInversion.M_Projected', 'AnkleInternalRotation.M_Projected'] \n",
      "    for var in dump_vars:\n",
      "        mg.add_dump('Main.AnyBodyGaitAppModel.InverseDynamicStudy.Output.JointAnglesAndMoments.Left.'+ var)\n",
      "    mg.add_dump('Main.AnyBodyGaitAppModel.InverseDynamicStudy.Output.Validation.KneeForces.TotalContactForce.cForceBodyWeight')\n",
      "    mg.add_dump('Main.AnyBodyGaitAppModel.InverseDynamicStudy.Output.Validation.KneeForces.TotalContactForce.mForceBodyWeight',include_in_macro= [0])\n",
      "    mg.add_dump('Main.AnyBodyGaitAppModel.InverseDynamicStudy.Output.Abscissa.t',include_in_macro= [0])\n",
      "\n",
      "    return mg\n",
      "    "
     ],
     "language": "python",
     "metadata": {},
     "outputs": [],
     "prompt_number": 7
    },
    {
     "cell_type": "code",
     "collapsed": false,
     "input": [
      "%cd Z:/model_output/Sensitivity study"
     ],
     "language": "python",
     "metadata": {},
     "outputs": [
      {
       "output_type": "stream",
       "stream": "stdout",
       "text": [
        "Z:\\model_output\\Sensitivity study\n"
       ]
      }
     ],
     "prompt_number": 8
    },
    {
     "cell_type": "code",
     "collapsed": false,
     "input": [
      "import shelve\n",
      "app = AnyPyProcess(num_processes = 3, \n",
      "                   anybodycon_path = 'C:\\\\Program Files\\\\AnyBody Technology\\\\AnyBody.6.0\\\\anybodycon.exe')\n",
      "folderlist = ['Z:/model_output/Sensitivity study']\n",
      "mg = create_macro(number_of_macros=1000, new_recruitment = False, reduce_knee_stregth = True)\n",
      "\n",
      "for macrolist in mg.generate_macros(batch_size=9):\n",
      "    output = app.start_macro(macrolist, folderlist)\n",
      "    db = shelve.open('Z:/model_output/Sensitivity study/SensitivtyStudyOutput_kenematic_model.db')\n",
      "    temp = []\n",
      "    if 'Results' in db:\n",
      "        temp = db['Results']\n",
      "    temp.extend(output)\n",
      "    db['Results'] = temp\n",
      "    db.close()    \n",
      "        "
     ],
     "language": "python",
     "metadata": {},
     "outputs": [
      {
       "output_type": "stream",
       "stream": "stdout",
       "text": [
        "\r",
        " [****************100%******************]  1 of 1 complete"
       ]
      },
      {
       "output_type": "stream",
       "stream": "stdout",
       "text": [
        "\n"
       ]
      },
      {
       "html": [
        "Total time: 284 seconds"
       ],
       "metadata": {},
       "output_type": "display_data",
       "text": [
        "<IPython.core.display.HTML at 0x39d3b38>"
       ]
      }
     ],
     "prompt_number": 30
    },
    {
     "cell_type": "code",
     "collapsed": false,
     "input": [
      "db = shelve.open('Z:/model_output/Sensitivity study/SensitivtyStudyOutput_kenematic_model.db')\n",
      "results = db['Results']\n",
      "db.close()"
     ],
     "language": "python",
     "metadata": {},
     "outputs": [],
     "prompt_number": 31
    },
    {
     "cell_type": "code",
     "collapsed": false,
     "input": [
      "import plotly.plotly as py  # (New syntax!) tools to communicate with Plotly's server\n",
      "import plotly.tools as tls  # (NEW!) useful Python/Plotly tools \n",
      "from plotly.graph_objs import Scatter, Data, Figure, Line, XAxis, YAxis, Layout\n",
      "\n",
      "my_creds = tls.get_credentials_file()                  # read credentials\n",
      "py.sign_in(my_creds['username'], my_creds['api_key'])  # (New syntax!) Plotly sign in\n",
      "cForceBodyWeight = 'Main.AnyBodyGaitAppModel.InverseDynamicStudy.Output.Validation.KneeForces.TotalContactForce.cForceBodyWeight'\n",
      "mForceBodyWeight = 'Main.AnyBodyGaitAppModel.InverseDynamicStudy.Output.Validation.KneeForces.TotalContactForce.mForceBodyWeight'\n",
      "\n",
      "\n",
      "curves = [Scatter(name = 'Measured',\n",
      "                  x = np.arange(len(results[0][mForceBodyWeight])),\n",
      "                  y = results[0][mForceBodyWeight],\n",
      "                  line = Line(width = 5, color = 'rgba(200,200,200,100)') )]\n",
      "\n",
      "curves.extend([Scatter( x = np.arange(len(result[mForceBodyWeight])),\n",
      "                        line = Line(width = 0.3, color = 'rgba(0,200,0,50)'),\n",
      "                        y = result[cForceBodyWeight]) for result in results])\n",
      "\n",
      "layout = Layout(title = 'Test', \n",
      "                showlegend=False,\n",
      "                xaxis1 = XAxis(title= 'Frames)'), \n",
      "                yaxis1 = YAxis(title = 'Total knee force (% Body weight)'))\n",
      "\n",
      "py_data = Data(curves)\n",
      "py_fig = Figure()\n",
      "py_fig['data'] = py_data\n",
      "py_fig['layout']= layout\n",
      "\n",
      "py.iplot(py_fig,filename = 'Kinematically_scaled_model_MonteCarlo_KneeStrength',world_readable = False)\n"
     ],
     "language": "python",
     "metadata": {},
     "outputs": [
      {
       "html": [
        "<iframe id=\"igraph\" scrolling=\"no\" style=\"border:none;\"seamless=\"seamless\" src=\"https://plot.ly/~MortenEnemarkLund/5\" height=\"525\" width=\"100%\"></iframe>"
       ],
       "metadata": {},
       "output_type": "display_data",
       "text": [
        "<IPython.core.display.HTML at 0x45b6160>"
       ]
      }
     ],
     "prompt_number": 34
    },
    {
     "cell_type": "code",
     "collapsed": false,
     "input": [
      "%matplotlib inline\n",
      "import matplotlib.pyplot as plt\n",
      "plt.figure(figsize= (12,6))\n",
      "KFm = 'Main.AnyBodyGaitAppModel.InverseDynamicStudy.Output.Validation.KneeForces.TotalContactForce.mForceBodyWeight'\n",
      "KFc = 'Main.AnyBodyGaitAppModel.InverseDynamicStudy.Output.Validation.KneeForces.TotalContactForce.cForceBodyWeight'\n",
      "plt.plot(results[0][KFm], 'r', lw = 3)\n",
      "for res in results:\n",
      "    plt.plot(res[KFc], alpha = 0.5)"
     ],
     "language": "python",
     "metadata": {},
     "outputs": [
      {
       "ename": "KeyError",
       "evalue": "'Main.AnyBodyGaitAppModel.InverseDynamicStudy.Output.Validation.KneeForces.TotalContactForce.mForceBodyWeight'",
       "output_type": "pyerr",
       "traceback": [
        "\u001b[1;31m---------------------------------------------------------------------------\u001b[0m\n\u001b[1;31mKeyError\u001b[0m                                  Traceback (most recent call last)",
        "\u001b[1;32m<ipython-input-12-bc9896ee1f50>\u001b[0m in \u001b[0;36m<module>\u001b[1;34m()\u001b[0m\n\u001b[0;32m      4\u001b[0m \u001b[0mKFm\u001b[0m \u001b[1;33m=\u001b[0m \u001b[1;34m'Main.AnyBodyGaitAppModel.InverseDynamicStudy.Output.Validation.KneeForces.TotalContactForce.mForceBodyWeight'\u001b[0m\u001b[1;33m\u001b[0m\u001b[0m\n\u001b[0;32m      5\u001b[0m \u001b[0mKFc\u001b[0m \u001b[1;33m=\u001b[0m \u001b[1;34m'Main.AnyBodyGaitAppModel.InverseDynamicStudy.Output.Validation.KneeForces.TotalContactForce.cForceBodyWeight'\u001b[0m\u001b[1;33m\u001b[0m\u001b[0m\n\u001b[1;32m----> 6\u001b[1;33m \u001b[0mplt\u001b[0m\u001b[1;33m.\u001b[0m\u001b[0mplot\u001b[0m\u001b[1;33m(\u001b[0m\u001b[0mresults\u001b[0m\u001b[1;33m[\u001b[0m\u001b[1;36m0\u001b[0m\u001b[1;33m]\u001b[0m\u001b[1;33m[\u001b[0m\u001b[0mKFm\u001b[0m\u001b[1;33m]\u001b[0m\u001b[1;33m,\u001b[0m \u001b[1;34m'r'\u001b[0m\u001b[1;33m,\u001b[0m \u001b[0mlw\u001b[0m \u001b[1;33m=\u001b[0m \u001b[1;36m3\u001b[0m\u001b[1;33m)\u001b[0m\u001b[1;33m\u001b[0m\u001b[0m\n\u001b[0m\u001b[0;32m      7\u001b[0m \u001b[1;32mfor\u001b[0m \u001b[0mres\u001b[0m \u001b[1;32min\u001b[0m \u001b[0mresults\u001b[0m\u001b[1;33m:\u001b[0m\u001b[1;33m\u001b[0m\u001b[0m\n\u001b[0;32m      8\u001b[0m     \u001b[0mplt\u001b[0m\u001b[1;33m.\u001b[0m\u001b[0mplot\u001b[0m\u001b[1;33m(\u001b[0m\u001b[0mres\u001b[0m\u001b[1;33m[\u001b[0m\u001b[0mKFc\u001b[0m\u001b[1;33m]\u001b[0m\u001b[1;33m,\u001b[0m \u001b[0malpha\u001b[0m \u001b[1;33m=\u001b[0m \u001b[1;36m0.5\u001b[0m\u001b[1;33m)\u001b[0m\u001b[1;33m\u001b[0m\u001b[0m\n",
        "\u001b[1;31mKeyError\u001b[0m: 'Main.AnyBodyGaitAppModel.InverseDynamicStudy.Output.Validation.KneeForces.TotalContactForce.mForceBodyWeight'"
       ]
      },
      {
       "metadata": {},
       "output_type": "display_data",
       "text": [
        "<matplotlib.figure.Figure at 0x3960a58>"
       ]
      }
     ],
     "prompt_number": 12
    },
    {
     "cell_type": "code",
     "collapsed": false,
     "input": [],
     "language": "python",
     "metadata": {},
     "outputs": []
    }
   ],
   "metadata": {}
  }
 ]
}