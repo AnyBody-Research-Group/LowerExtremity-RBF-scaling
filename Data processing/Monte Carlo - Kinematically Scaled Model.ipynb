{
 "metadata": {
  "name": "",
  "signature": "sha256:40c22489ee01183bc7a2b0cad29057b615667f2db26e9646f93e98d71ffee750"
 },
 "nbformat": 3,
 "nbformat_minor": 0,
 "worksheets": [
  {
   "cells": [
    {
     "cell_type": "markdown",
     "metadata": {},
     "source": [
      "# A sensitivity for fixed marker positions\n",
      "****\n",
      "\n",
      "1. Joint trials and kinematic model \n",
      "    1. Run all joint trials\n",
      "    2. Run kinematic with optimized joint parameters\n",
      "2. Register anatomical frames\n",
      "    1. Load scaled model with standing reference recording\n",
      "    2. Solve over determined kinematic for one time frame. \n",
      "    3. Register markerb-based anatomical frames with the scaled model segments\n",
      "3. Run inverse dynamics\n",
      "    1. Load inverse dynamic model with the trial data\n",
      "    2. Reload the optimized parameters\n",
      "    3. Reload the marker-based anatomical frames\n",
      "    4. Run Inverse dynamic analysis\n",
      "    5. Dump the joint moments to be read into python"
     ]
    },
    {
     "cell_type": "code",
     "collapsed": false,
     "input": [
      "import os\n",
      "import os.path as op\n",
      "import numpy as np\n",
      "from anypytools.generate_macros import MacroGenerator, MonteCarloMacroGenerator\n",
      "from anypytools.abcutils import AnyPyProcess\n",
      "\n",
      "basefolder = op.expanduser('~/Documents/GitHub/LowerExtremity-RBF-scaling')\n",
      "trialfolder =  op.join(basefolder, 'Subjects/SC/Gait Trials/SC_ngait_og5')\n",
      "modelfolder = op.join(basefolder,'KinematicScaledModel')\n",
      "statictrial = op.join(basefolder,'Subjects/SC/Static Trials/SC_staticfor_again1')\n",
      "jointtrialfolder = op.join(basefolder,'Subjects/SC/Joint Trials')\n",
      "\n",
      "workfolder = 'Z:/model_output/Sensitivity study'\n",
      "\n",
      "app = AnyPyProcess( )"
     ],
     "language": "python",
     "metadata": {},
     "outputs": [],
     "prompt_number": 42
    },
    {
     "cell_type": "markdown",
     "metadata": {},
     "source": [
      "Run all joint trials"
     ]
    },
    {
     "cell_type": "code",
     "collapsed": false,
     "input": [
      "mg = MacroGenerator()\n",
      "mg.add_load('Kinematics.main.any')\n",
      "mg.add_run_operation('Main.JntParameterOptModel.AnatomicalStickFigureValues.Load_AnatomicalParameters')\n",
      "mg.add_run_operation('Main.Run_Kinematic_Optimization')\n",
      "\n",
      "app = AnyPyProcess( )\n",
      "# Run single joint trials\n",
      "app.start_macro(mg.generate_macros(), [jointtrialfolder], '(ankle|hip)' );\n",
      "\n",
      "# Run Multi joint trials \n",
      "app.start_macro(mg.generate_macros(), [jointtrialfolder], 'ngait_og5' );"
     ],
     "language": "python",
     "metadata": {},
     "outputs": [
      {
       "output_type": "stream",
       "stream": "stdout",
       "text": [
        "\r",
        " [****************100%******************]  1 of 1 complete"
       ]
      },
      {
       "output_type": "stream",
       "stream": "stdout",
       "text": [
        "\n"
       ]
      },
      {
       "html": [
        "Total time: 189 seconds"
       ],
       "metadata": {},
       "output_type": "display_data",
       "text": [
        "<IPython.core.display.HTML object>"
       ]
      }
     ],
     "prompt_number": 2
    },
    {
     "cell_type": "markdown",
     "metadata": {},
     "source": [
      "Run the kinematic study"
     ]
    },
    {
     "cell_type": "code",
     "collapsed": false,
     "input": [
      "mg = MacroGenerator()\n",
      "pathdef = path_kw = {'MODEL_TYPE': modelfolder, 'H5_OUTPUT' : \"\" }\n",
      "mg.add_load('Kinematics.main.any', path_kw = pathdef)\n",
      "mg.add_run_operation('Main.Load_JointTrialParameters')\n",
      "mg.add_run_operation('Main.JntParameterOptModel.KinematicStudy.Kinematics')\n",
      "macro = mg.generate_macros()\n",
      "\n",
      "app.start_macro(macro, [trialfolder]);"
     ],
     "language": "python",
     "metadata": {},
     "outputs": [
      {
       "output_type": "stream",
       "stream": "stdout",
       "text": [
        "\r",
        " [****************100%******************]  1 of 1 complete"
       ]
      },
      {
       "output_type": "stream",
       "stream": "stdout",
       "text": [
        "\n"
       ]
      },
      {
       "html": [
        "Total time: 24 seconds"
       ],
       "metadata": {},
       "output_type": "display_data",
       "text": [
        "<IPython.core.display.HTML object>"
       ]
      }
     ],
     "prompt_number": 12
    },
    {
     "cell_type": "code",
     "collapsed": false,
     "input": [
      "mg = MacroGenerator()\n",
      "pathdef = path_kw = {'MODEL_TYPE': modelfolder, 'H5_OUTPUT' : \"\" }\n",
      "mg.add_load('FindStaticMarkerPos.main.any', path_kw = pathdef)\n",
      "mg.add_run_operation('Main.CalculateStaticCoordinateSystems')\n",
      "macro = mg.generate_macros()\n",
      "\n",
      "app.start_macro(macro, [statictrial] );"
     ],
     "language": "python",
     "metadata": {},
     "outputs": [
      {
       "output_type": "stream",
       "stream": "stdout",
       "text": [
        "\r",
        " [****************100%******************]  1 of 1 complete"
       ]
      },
      {
       "output_type": "stream",
       "stream": "stdout",
       "text": [
        "\n"
       ]
      },
      {
       "html": [
        "Total time: 4 seconds"
       ],
       "metadata": {},
       "output_type": "display_data",
       "text": [
        "<IPython.core.display.HTML object>"
       ]
      }
     ],
     "prompt_number": 13
    },
    {
     "cell_type": "heading",
     "level": 3,
     "metadata": {},
     "source": [
      "Make macro to caputure the current marker positions. "
     ]
    },
    {
     "cell_type": "code",
     "collapsed": false,
     "input": [
      "mg = MacroGenerator()\n",
      "\n",
      "mg.add_load(op.join(trialfolder, 'Kinematics.main.any'), path_kw = {'MODEL_TYPE': modelfolder})\n",
      "mg.add_dump('Main.SubjectSpecificData.MarkerPos.HeelMarker')\n",
      "mg.add_dump('Main.SubjectSpecificData.MarkerPos.ToeMarker')\n",
      "mg.add_dump('Main.SubjectSpecificData.MarkerPos.MidfootLateralMarker')\n",
      "mg.add_dump('Main.SubjectSpecificData.MarkerPos.RAsisMarker ')\n",
      "mg.add_dump('Main.SubjectSpecificData.MarkerPos.LAsisMarker ')\n",
      "mg.add_dump('Main.SubjectSpecificData.MarkerPos.RPsisMarker')\n",
      "mg.add_dump('Main.SubjectSpecificData.MarkerPos.LPsisMarker')\n",
      "\n",
      "current_markers = app.start_macro(mg.generate_macros(), [workfolder])[0]"
     ],
     "language": "python",
     "metadata": {},
     "outputs": [
      {
       "output_type": "stream",
       "stream": "stdout",
       "text": [
        "\r",
        " [****************100%******************]  1 of 1 complete"
       ]
      },
      {
       "output_type": "stream",
       "stream": "stdout",
       "text": [
        "\n"
       ]
      },
      {
       "html": [
        "Total time: 4 seconds"
       ],
       "metadata": {},
       "output_type": "display_data",
       "text": [
        "<IPython.core.display.HTML object>"
       ]
      }
     ],
     "prompt_number": 29
    },
    {
     "cell_type": "code",
     "collapsed": false,
     "input": [
      "current_markers"
     ],
     "language": "python",
     "metadata": {},
     "outputs": [
      {
       "metadata": {},
       "output_type": "pyout",
       "prompt_number": 26,
       "text": [
        "{u'Main.SubjectSpecificData.MarkerPos.HeelMarker': array([-0.03104974,  0.        ,  0.015     ]),\n",
        " u'Main.SubjectSpecificData.MarkerPos.LAsisMarker': array([ 0.1300804 , -0.03009163, -0.1312    ]),\n",
        " u'Main.SubjectSpecificData.MarkerPos.LPsisMarker': array([-0.06192611, -0.01914715, -0.03      ]),\n",
        " u'Main.SubjectSpecificData.MarkerPos.MidfootLateralMarker': array([ 0.177     , -0.015     ,  0.07045269]),\n",
        " u'Main.SubjectSpecificData.MarkerPos.RAsisMarker': array([ 0.1300804 , -0.03009163,  0.1312    ]),\n",
        " u'Main.SubjectSpecificData.MarkerPos.RPsisMarker': array([-0.06192611, -0.01914715,  0.03      ]),\n",
        " u'Main.SubjectSpecificData.MarkerPos.ToeMarker': array([ 0.28 ,  0.015,  0.01 ])}"
       ]
      }
     ],
     "prompt_number": 26
    },
    {
     "cell_type": "code",
     "collapsed": false,
     "input": [],
     "language": "python",
     "metadata": {},
     "outputs": []
    },
    {
     "cell_type": "code",
     "collapsed": false,
     "input": [
      "np.random.seed(1)\n",
      "mg = MonteCarloMacroGenerator(number_of_macros=10, counter_token = '{ID}')\n",
      "pathdef = {'MODEL_TYPE': modelfolder}\n",
      "\n",
      "mg.add_load(op.join(statictrial, 'FootPosition.main.any'), path_kw = pathdef )\n",
      "for name, value in current_markers.items():\n",
      "    mg.add_set_value_random_uniform(name, value, np.array([0.02,0.02,0.02]))\n",
      "mg.add_update_values()\n",
      "mg.add_run_operation('Main.Load_JointTrialParameters')\n",
      "mg.add_run_operation('Main.FootPosModel.study.InitialConditions')\n",
      "mg.add_run_operation('Main.FootPosModel.study.FootPar.SaveToAnySetFile.MarkValuesAsChanged_BugWorkAround')\n",
      "mg.add_run_operation('Main.FootPosModel.study.FootPar.SaveToAnySetFile.CopyValues2DummyStructure')\n",
      "# Saves both new pertubed maker positions and the foot positions\n",
      "mg.add_save_values('Tmp/KinematicModel_Parameters{ID}.anyset')\n",
      "\n",
      "\n",
      "mg.add_load(op.join(trialfolder,'InversDynamics.main.any'),path_kw = pathdef )\n",
      "mg.add_run_operation('Main.Load_JointTrialParameters')\n",
      "mg.add_load_values('Tmp/KinematicModel_Parameters{ID}.anyset')\n",
      "mg.add_run_operation('LoadStaticMarkerFrames')\n",
      "mg.add_update_values()\n",
      "mg.add_run_operation('Main.AnyBodyGaitAppModel.InverseDynamicStudy.InitialConditions')\n",
      "mg.add_run_operation('Main.AnyBodyGaitAppModel.HumanModel.Calibration.CalibrationSequence')\n",
      "mg.add_run_operation('Main.AnyBodyGaitAppModel.InverseDynamicStudy.InverseDynamics')\n",
      "\n",
      "dump_vars      = ['HipFlexion.Pos', 'HipAdduction.Pos', 'HipInternalRotation.Pos','KneeFlexion.Pos','KneeAdduction.Pos', \n",
      "                  'KneeInternalRotation.Pos','AnkleDorsiFlexion.Pos', 'AnkleInversion.Pos','AnkleInternalRotation.Pos', \n",
      "                  'HipFlexion.M_Projected', 'HipAdduction.M_Projected','HipInternalRotation.M_Projected','KneeFlexion.M_Projected',\n",
      "                  'KneeAdduction.M_Projected','KneeInternalRotation.M_Projected','AnkleDorsiFlexion.M_Projected',\n",
      "                  'AnkleInversion.M_Projected', 'AnkleInternalRotation.M_Projected'] \n",
      "for var in dump_vars:\n",
      "    mg.add_dump('Main.AnyBodyGaitAppModel.InverseDynamicStudy.Output.JointAnglesAndMoments.Left.'+ var)\n",
      "mg.add_dump('Main.AnyBodyGaitAppModel.InverseDynamicStudy.Output.Validation.KneeForces.TotalContactForce.cForceBodyWeight')\n",
      "mg.add_dump('Main.AnyBodyGaitAppModel.InverseDynamicStudy.Output.Validation.KneeForces.TotalContactForce.mForceBodyWeight')\n",
      "    \n",
      "macro = mg.generate_macros()\n",
      "    \n",
      "results = app.start_macro(macro, [workfolder])"
     ],
     "language": "python",
     "metadata": {},
     "outputs": [
      {
       "output_type": "stream",
       "stream": "stdout",
       "text": [
        "\r",
        " [****************100%******************]  1 of 1 complete (1 Error)"
       ]
      },
      {
       "output_type": "stream",
       "stream": "stdout",
       "text": [
        "\n"
       ]
      },
      {
       "html": [
        "Failed 1493sec :model_output/Sensitivity study n=0 : (<a href= \"Z:\\model_output\\Sensitivity study\\output_q3dl34.log\">output_q3dl34.log</a>                                     <a href= \"Z:\\model_output\\Sensitivity study\">dir</a>)                                   "
       ],
       "metadata": {},
       "output_type": "display_data",
       "text": [
        "<IPython.core.display.HTML object>"
       ]
      },
      {
       "html": [
        "Total time: 1494 seconds"
       ],
       "metadata": {},
       "output_type": "display_data",
       "text": [
        "<IPython.core.display.HTML object>"
       ]
      }
     ],
     "prompt_number": 41
    },
    {
     "cell_type": "code",
     "collapsed": false,
     "input": [
      "%cd Z:/model_output/Sensitivity study"
     ],
     "language": "python",
     "metadata": {},
     "outputs": [
      {
       "output_type": "stream",
       "stream": "stdout",
       "text": [
        "Z:\\model_output\\Sensitivity study\n"
       ]
      }
     ],
     "prompt_number": 28
    },
    {
     "cell_type": "code",
     "collapsed": false,
     "input": [
      "import shelve\n",
      "app = AnyPyProcess(num_processes = 2, \n",
      "                   anybodycon_path = 'C:\\\\Program Files\\\\AnyBody Technology\\\\AnyBody.6.0\\\\anybodycon.exe', \n",
      "                   ignore_errors = 'SCR.SCN9')\n",
      "folderlist = ['Z:/model_output/Sensitivity study']\n",
      "\n",
      "for macrolist in mg.generate_macros(batch_size=2):\n",
      "    output = app.start_macro(macrolist, folderlist)\n",
      "    db = shelve.open('Z:/model_output/Sensitivity study/SensitivtyStudyOutput_kenematic_model.db')\n",
      "    temp = []\n",
      "    if 'Results' in db:\n",
      "        temp = db['Results']\n",
      "    temp.extend(output)\n",
      "    db['Results'] = temp\n",
      "    db.close()    \n",
      "        "
     ],
     "language": "python",
     "metadata": {},
     "outputs": [
      {
       "output_type": "stream",
       "stream": "stdout",
       "text": [
        "\r",
        " [                  0%                  ]  0 of 2 complete"
       ]
      }
     ]
    },
    {
     "cell_type": "code",
     "collapsed": false,
     "input": [],
     "language": "python",
     "metadata": {},
     "outputs": []
    }
   ],
   "metadata": {}
  }
 ]
}