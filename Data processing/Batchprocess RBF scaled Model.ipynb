{
 "metadata": {
  "name": "",
  "signature": "sha256:46df7b01fb5238cbfae5cdd42428f70f90fa21ce16b9365aaf8d54cb7ce548c7"
 },
 "nbformat": 3,
 "nbformat_minor": 0,
 "worksheets": [
  {
   "cells": [
    {
     "cell_type": "code",
     "collapsed": false,
     "input": [
      "from anypytools.abcutils import AnyPyProcess, create_path_load_string\n",
      "from anypytools.generate_macros import MacroGenerator\n",
      "import os\n"
     ],
     "language": "python",
     "metadata": {},
     "outputs": [],
     "prompt_number": 8
    },
    {
     "cell_type": "code",
     "collapsed": false,
     "input": [
      "modelfolder =  os.path.expanduser('~\\\\Documents\\\\GitHub\\\\LowerExtremity-RBF-scaling')\n",
      "outputfolder = 'z:/model_output/'\n",
      "\n",
      "# Path statements for AnyBody. \n",
      "kinematic_model_path = { 'MODEL_TYPE': os.path.join(modelfolder, 'KinematicScaledModel'), \n",
      "                         'H5_OUTPUT' : os.path.join(outputfolder,'kinematic_scaled_model/kinematics') }\n",
      "linear_model_path =    { 'MODEL_TYPE': os.path.join(modelfolder, 'LinearScaledModel'), \n",
      "                         'H5_OUTPUT' : os.path.join(outputfolder,'lin_scaled_model/kinematics') }\n",
      "anatomic_model_path =  { 'MODEL_TYPE': os.path.join(modelfolder, 'AnatomicalLandmarkScaledModel') , \n",
      "                         'H5_OUTPUT' : os.path.join(outputfolder,'anatomical_landmark_model/kinematics') }\n",
      "\n",
      "\n",
      "static_trials = [ os.path.join(modelfolder, 'Subjects/SC/Static Trials/SC_staticfor_again1')]\n",
      "gait_trials =   [ os.path.join(modelfolder, 'Subjects/SC/Gait Trials/SC_ngait_og{}'.format(_)) for _ in [5,6,7,8,9]]\n",
      "joint_trials =  [ os.path.join(modelfolder, 'Subjects/SC/Joint Trials')]\n",
      "\n",
      "app = AnyPyProcess(anybodycon_path = 'C:\\\\Program Files\\\\AnyBody Technology\\\\AnyBody.6.0\\\\AnyBodyCon.exe',\n",
      "                   num_processes = 5,\n",
      "                   disp = True)\n"
     ],
     "language": "python",
     "metadata": {},
     "outputs": [],
     "prompt_number": 9
    },
    {
     "cell_type": "markdown",
     "metadata": {},
     "source": [
      "# Kinematics"
     ]
    },
    {
     "cell_type": "markdown",
     "metadata": {},
     "source": [
      "### Anatomical Scaled Model"
     ]
    },
    {
     "cell_type": "code",
     "collapsed": false,
     "input": [
      "mg = MacroGenerator()\n",
      "\n",
      "mg.add_load('Kinematics.main.any', path_kw = anatomic_model_path)\n",
      "mg.add_run_operation('Main.Load_JointTrialParameters')\n",
      "mg.add_run_operation('Main.JntParameterOptModel.KinematicStudy.Kinematics')\n",
      "mg.add_run_operation('Main.JntParameterOptModel.SaveKinOutputToH5File')\n",
      "app.start_macro(mg.generate_macros(), gait_trials );"
     ],
     "language": "python",
     "metadata": {},
     "outputs": [
      {
       "output_type": "stream",
       "stream": "stdout",
       "text": [
        "\r",
        " [****************100%******************]  5 of 5 complete"
       ]
      },
      {
       "output_type": "stream",
       "stream": "stdout",
       "text": [
        "\n"
       ]
      },
      {
       "html": [
        "Total time: 14 seconds"
       ],
       "metadata": {},
       "output_type": "display_data",
       "text": [
        "<IPython.core.display.HTML at 0x450bb00>"
       ]
      }
     ],
     "prompt_number": 10
    },
    {
     "cell_type": "code",
     "collapsed": false,
     "input": [
      "mg = MacroGenerator()\n",
      "mg.add_load('FootPosition.main.any', path_kw = anatomic_model_path)\n",
      "mg.add_run_operation('Main.RunApplication')\n",
      "\n",
      "app.start_macro(mg.generate_macros(), static_trials );"
     ],
     "language": "python",
     "metadata": {},
     "outputs": [
      {
       "output_type": "stream",
       "stream": "stdout",
       "text": [
        "\r",
        " [****************100%******************]  1 of 1 complete"
       ]
      },
      {
       "output_type": "stream",
       "stream": "stdout",
       "text": [
        "\n"
       ]
      },
      {
       "html": [
        "Total time: 4 seconds"
       ],
       "metadata": {},
       "output_type": "display_data",
       "text": [
        "<IPython.core.display.HTML at 0x450b438>"
       ]
      }
     ],
     "prompt_number": 11
    },
    {
     "cell_type": "markdown",
     "metadata": {},
     "source": [
      "###Kinematically scaled model"
     ]
    },
    {
     "cell_type": "markdown",
     "metadata": {},
     "source": [
      "#### Run joint trial"
     ]
    },
    {
     "cell_type": "code",
     "collapsed": false,
     "input": [
      "mg = MacroGenerator()\n",
      "mg.add_load('Kinematics.main.any')\n",
      "mg.add_run_operation('Main.JntParameterOptModel.AnatomicalStickFigureValues.Load_AnatomicalParameters')\n",
      "mg.add_run_operation('Main.Run_Kinematic_Optimization')"
     ],
     "language": "python",
     "metadata": {},
     "outputs": [],
     "prompt_number": 12
    },
    {
     "cell_type": "code",
     "collapsed": false,
     "input": [
      "# Run single joint trials\n",
      "app.start_macro(mg.generate_macros(), joint_trials, '(ankle|hip)' );"
     ],
     "language": "python",
     "metadata": {},
     "outputs": [
      {
       "output_type": "stream",
       "stream": "stdout",
       "text": [
        "\r",
        " [****************100%******************]  6 of 6 complete"
       ]
      },
      {
       "output_type": "stream",
       "stream": "stdout",
       "text": [
        "\n"
       ]
      },
      {
       "html": [
        "Total time: 15 seconds"
       ],
       "metadata": {},
       "output_type": "display_data",
       "text": [
        "<IPython.core.display.HTML at 0x450b4a8>"
       ]
      }
     ],
     "prompt_number": 13
    },
    {
     "cell_type": "code",
     "collapsed": false,
     "input": [
      "# Run Multi joint trials \n",
      "app.start_macro(mg.generate_macros(), joint_trials, 'ngait' );"
     ],
     "language": "python",
     "metadata": {},
     "outputs": [
      {
       "output_type": "stream",
       "stream": "stdout",
       "text": [
        "\r",
        " [****************100%******************]  5 of 5 complete"
       ]
      },
      {
       "output_type": "stream",
       "stream": "stdout",
       "text": [
        "\n"
       ]
      },
      {
       "html": [
        "Total time: 33 seconds"
       ],
       "metadata": {},
       "output_type": "display_data",
       "text": [
        "<IPython.core.display.HTML at 0x450ba90>"
       ]
      }
     ],
     "prompt_number": 14
    },
    {
     "cell_type": "markdown",
     "metadata": {},
     "source": [
      "##### Run static marker frame registration\n",
      "Note... This will only work if the python is installed for the right version of anybody... "
     ]
    },
    {
     "cell_type": "code",
     "collapsed": false,
     "input": [
      "mg = MacroGenerator()\n",
      "mg.add_load('FindStaticMarkerPos.main.any', path_kw = kinematic_model_path)\n",
      "mg.add_run_operation('Main.CalculateStaticCoordinateSystems')\n",
      "macro = mg.generate_macros()\n",
      "\n",
      "app.start_macro(macro, static_trials );"
     ],
     "language": "python",
     "metadata": {},
     "outputs": [
      {
       "output_type": "stream",
       "stream": "stdout",
       "text": [
        "\r",
        " [****************100%******************]  1 of 1 complete"
       ]
      },
      {
       "output_type": "stream",
       "stream": "stdout",
       "text": [
        "\n"
       ]
      },
      {
       "html": [
        "Total time: 3 seconds"
       ],
       "metadata": {},
       "output_type": "display_data",
       "text": [
        "<IPython.core.display.HTML at 0x450b278>"
       ]
      }
     ],
     "prompt_number": 15
    },
    {
     "cell_type": "markdown",
     "metadata": {},
     "source": [
      "##### Run kinematic trials"
     ]
    },
    {
     "cell_type": "code",
     "collapsed": false,
     "input": [
      "mg = MacroGenerator()\n",
      "mg.add_load('Kinematics.main.any', path_kw = kinematic_model_path)\n",
      "mg.add_run_operation('Main.Load_JointTrialParameters')\n",
      "mg.add_run_operation('Main.JntParameterOptModel.KinematicStudy.Kinematics')\n",
      "mg.add_run_operation('Main.JntParameterOptModel.SaveKinOutputToH5File')\n",
      "macro = mg.generate_macros()\n",
      "\n",
      "app.start_macro(macro, gait_trials );\n"
     ],
     "language": "python",
     "metadata": {},
     "outputs": [
      {
       "output_type": "stream",
       "stream": "stdout",
       "text": [
        "\r",
        " [****************100%******************]  5 of 5 complete"
       ]
      },
      {
       "output_type": "stream",
       "stream": "stdout",
       "text": [
        "\n"
       ]
      },
      {
       "html": [
        "Total time: 14 seconds"
       ],
       "metadata": {},
       "output_type": "display_data",
       "text": [
        "<IPython.core.display.HTML at 0x450bef0>"
       ]
      }
     ],
     "prompt_number": 16
    },
    {
     "cell_type": "markdown",
     "metadata": {},
     "source": [
      "##### Run foot position model"
     ]
    },
    {
     "cell_type": "code",
     "collapsed": false,
     "input": [
      "mg = MacroGenerator()\n",
      "mg.add_load('FootPosition.main.any', path_kw = kinematic_model_path )\n",
      "mg.add_run_operation('Main.RunApplication')\n",
      "macro = mg.generate_macros()\n",
      "\n",
      "app.start_macro(macro, static_trials );"
     ],
     "language": "python",
     "metadata": {},
     "outputs": [
      {
       "output_type": "stream",
       "stream": "stdout",
       "text": [
        "\r",
        " [****************100%******************]  1 of 1 complete"
       ]
      },
      {
       "output_type": "stream",
       "stream": "stdout",
       "text": [
        "\n"
       ]
      },
      {
       "html": [
        "Total time: 4 seconds"
       ],
       "metadata": {},
       "output_type": "display_data",
       "text": [
        "<IPython.core.display.HTML at 0x450b710>"
       ]
      }
     ],
     "prompt_number": 17
    },
    {
     "cell_type": "markdown",
     "metadata": {},
     "source": [
      "### Linearly scaled model"
     ]
    },
    {
     "cell_type": "code",
     "collapsed": false,
     "input": [
      "mg = MacroGenerator()\n",
      "mg.add_load('Kinematics.main.any', path_kw = linear_model_path)\n",
      "mg.add_run_operation('Main.RunMotionAndParameterOptimizationSequence')\n",
      "mg.add_run_operation('Main.SaveResults')\n",
      "macro = mg.generate_macros()\n",
      "\n",
      "app.start_macro(macro, gait_trials );"
     ],
     "language": "python",
     "metadata": {},
     "outputs": [
      {
       "output_type": "stream",
       "stream": "stdout",
       "text": [
        "\r",
        " [****************100%******************]  5 of 5 complete"
       ]
      },
      {
       "output_type": "stream",
       "stream": "stdout",
       "text": [
        "\n"
       ]
      },
      {
       "html": [
        "Total time: 107 seconds"
       ],
       "metadata": {},
       "output_type": "display_data",
       "text": [
        "<IPython.core.display.HTML at 0x450b6d8>"
       ]
      }
     ],
     "prompt_number": 18
    },
    {
     "cell_type": "code",
     "collapsed": false,
     "input": [
      "mg = MacroGenerator()\n",
      "mg.add_load('FindStaticMarkerPos.main.any', path_kw = linear_model_path)\n",
      "mg.add_run_operation('Main.CalculateStaticCoordinateSystemsALL')\n",
      "macro = mg.generate_macros()\n",
      "\n",
      "app.start_macro(macro, static_trials);"
     ],
     "language": "python",
     "metadata": {},
     "outputs": [
      {
       "output_type": "stream",
       "stream": "stdout",
       "text": [
        "\r",
        " [****************100%******************]  1 of 1 complete"
       ]
      },
      {
       "output_type": "stream",
       "stream": "stdout",
       "text": [
        "\n"
       ]
      },
      {
       "html": [
        "Total time: 6 seconds"
       ],
       "metadata": {},
       "output_type": "display_data",
       "text": [
        "<IPython.core.display.HTML at 0x450be80>"
       ]
      }
     ],
     "prompt_number": 19
    },
    {
     "cell_type": "markdown",
     "metadata": {},
     "source": [
      "## INVERSE DYNAMICS"
     ]
    },
    {
     "cell_type": "code",
     "collapsed": false,
     "input": [
      "kinematic_model_path['H5_OUTPUT'] = os.path.join(outputfolder,'kinematic_scaled_model/inversedynamics') \n",
      "linear_model_path['H5_OUTPUT'] = os.path.join(outputfolder,'lin_scaled_model/inversedynamics') \n",
      "anatomic_model_path['H5_OUTPUT'] = os.path.join(outputfolder,'anatomical_landmark_model/inversedynamics') "
     ],
     "language": "python",
     "metadata": {},
     "outputs": [],
     "prompt_number": 24
    },
    {
     "cell_type": "markdown",
     "metadata": {},
     "source": [
      "#### Anatomical Scaled Model"
     ]
    },
    {
     "cell_type": "code",
     "collapsed": false,
     "input": [
      "mg = MacroGenerator()\n",
      "mg.add_load('InversDynamics.main.any', path_kw = anatomic_model_path)\n",
      "mg.add_run_operation('Main.Load_JointTrialParameters')\n",
      "mg.add_run_operation('Main.LoadFootJointAxis')\n",
      "mg.add_run_operation('Main.AnyBodyGaitAppModel.InverseDynamicStudy.ReduceKneeStrengh')\n",
      "mg.add_update_values()\n",
      "mg.add_run_operation('Main.AnyBodyGaitAppModel.InverseDynamicStudy.InitialConditions')\n",
      "mg.add_run_operation('Main.AnyBodyGaitAppModel.HumanModel.Calibration.CalibrationSequence')\n",
      "mg.add_run_operation('Main.AnyBodyGaitAppModel.InverseDynamicStudy.InverseDynamics')\n",
      "mg.add_run_operation('Main.SaveOutputToH5File')\n",
      "macro = mg.generate_macros()\n",
      "\n",
      "app.start_macro(macro, gait_trials);"
     ],
     "language": "python",
     "metadata": {},
     "outputs": [
      {
       "output_type": "stream",
       "stream": "stdout",
       "text": [
        "\r",
        " [****************100%******************]  5 of 5 complete"
       ]
      },
      {
       "output_type": "stream",
       "stream": "stdout",
       "text": [
        "\n"
       ]
      },
      {
       "html": [
        "Total time: 423 seconds"
       ],
       "metadata": {},
       "output_type": "display_data",
       "text": [
        "<IPython.core.display.HTML at 0x44e3780>"
       ]
      }
     ],
     "prompt_number": 25
    },
    {
     "cell_type": "markdown",
     "metadata": {},
     "source": [
      "####Kinematically scaled model"
     ]
    },
    {
     "cell_type": "code",
     "collapsed": false,
     "input": [
      "mg = MacroGenerator()\n",
      "mg.add_load('InversDynamics.main.any', path_kw = kinematic_model_path)\n",
      "mg.add_run_operation('Main.Load_JointTrialParameters')\n",
      "mg.add_run_operation('Main.LoadFootJointAxis')\n",
      "mg.add_run_operation('LoadStaticMarkerFrames')\n",
      "mg.add_run_operation('Main.AnyBodyGaitAppModel.InverseDynamicStudy.ReduceKneeStrengh')\n",
      "mg.add_update_values()\n",
      "mg.add_run_operation('Main.AnyBodyGaitAppModel.InverseDynamicStudy.InitialConditions')\n",
      "mg.add_run_operation('Main.AnyBodyGaitAppModel.HumanModel.Calibration.CalibrationSequence')\n",
      "mg.add_run_operation('Main.AnyBodyGaitAppModel.InverseDynamicStudy.InverseDynamics')\n",
      "mg.add_run_operation('Main.SaveOutputToH5File')\n",
      "macro = mg.generate_macros()\n",
      "\n",
      "app.start_macro(macro, gait_trials);"
     ],
     "language": "python",
     "metadata": {},
     "outputs": [
      {
       "output_type": "stream",
       "stream": "stdout",
       "text": [
        "\r",
        " [****************100%******************]  5 of 5 complete"
       ]
      },
      {
       "output_type": "stream",
       "stream": "stdout",
       "text": [
        "\n"
       ]
      },
      {
       "html": [
        "Total time: 306 seconds"
       ],
       "metadata": {},
       "output_type": "display_data",
       "text": [
        "<IPython.core.display.HTML at 0x450b2e8>"
       ]
      }
     ],
     "prompt_number": 26
    },
    {
     "cell_type": "markdown",
     "metadata": {},
     "source": [
      "#### Linearly scaled model"
     ]
    },
    {
     "cell_type": "code",
     "collapsed": false,
     "input": [
      "mg = MacroGenerator()\n",
      "mg.add_load('InversDynamics.main.any', path_kw = linear_model_path)\n",
      "mg.add_run_operation('Main.Studies.InverseDynamicStudy.ReduceKneeStrengh')\n",
      "mg.add_run_operation('Main.Studies.InverseDynamicStudy.JointAnglesAndMoments.LoadStaticFrames')\n",
      "mg.add_update_values()\n",
      "mg.add_run_operation('Main.InverseDynamicAnalysisSequence')\n",
      "mg.add_run_operation('Main.SaveResults')\n",
      "macro = mg.generate_macros()\n",
      "\n",
      "app.start_macro(macro, gait_trials);"
     ],
     "language": "python",
     "metadata": {},
     "outputs": [
      {
       "output_type": "stream",
       "stream": "stdout",
       "text": [
        "\r",
        " [****************100%******************]  5 of 5 complete"
       ]
      },
      {
       "output_type": "stream",
       "stream": "stdout",
       "text": [
        "\n"
       ]
      },
      {
       "html": [
        "Total time: 237 seconds"
       ],
       "metadata": {},
       "output_type": "display_data",
       "text": [
        "<IPython.core.display.HTML at 0x44e38d0>"
       ]
      }
     ],
     "prompt_number": 27
    },
    {
     "cell_type": "code",
     "collapsed": false,
     "input": [],
     "language": "python",
     "metadata": {},
     "outputs": [],
     "prompt_number": 27
    },
    {
     "cell_type": "code",
     "collapsed": false,
     "input": [],
     "language": "python",
     "metadata": {},
     "outputs": [],
     "prompt_number": 23
    }
   ],
   "metadata": {}
  }
 ]
}