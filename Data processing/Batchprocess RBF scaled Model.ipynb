{
 "metadata": {
  "name": "",
  "signature": "sha256:c90d41c44ffaafab4435f779b0b7bbee9777ee4b7ae8132abbd0514407f751f9"
 },
 "nbformat": 3,
 "nbformat_minor": 0,
 "worksheets": [
  {
   "cells": [
    {
     "cell_type": "code",
     "collapsed": false,
     "input": [
      "from anypytools.abcutils import AnyPyProcess, create_path_load_string\n",
      "from anypytools.generate_macros import MacroGenerator\n",
      "import os\n"
     ],
     "language": "python",
     "metadata": {},
     "outputs": [],
     "prompt_number": 5
    },
    {
     "cell_type": "code",
     "collapsed": false,
     "input": [
      "modelfolder =  os.path.expanduser('~\\\\Documents\\\\GitHub\\\\LowerExtremity-RBF-scaling')\n",
      "outputfolder = 'z:/model_output/'\n",
      "\n",
      "# Path statements for AnyBody. \n",
      "kinematic_model_path = { 'MODEL_TYPE': os.path.join(modelfolder, 'KinematicScaledModel'), \n",
      "                         'H5_OUTPUT' : os.path.join(outputfolder,'kinematic_scaled_model/kinematics') }\n",
      "linear_model_path =    { 'MODEL_TYPE': os.path.join(modelfolder, 'LinearScaledModel'), \n",
      "                         'H5_OUTPUT' : os.path.join(outputfolder,'lin_scaled_model/kinematics') }\n",
      "anatomic_model_path =  { 'MODEL_TYPE': os.path.join(modelfolder, 'AnatomicalLandmarkScaledModel') , \n",
      "                         'H5_OUTPUT' : os.path.join(outputfolder,'anatomical_landmark_model/kinematics') }\n",
      "\n",
      "\n",
      "static_trials = [ modelpath('Subjects/SC/Static Trials/SC_staticfor_again1')]\n",
      "gait_trials =   [ modelpath('Subjects/SC/Gait Trials/SC_ngait_og{}'.format(_)) for _ in [5,6,7,8,9]]\n",
      "joint_trials =  [ modelpath('Subjects/SC/Joint Trials')]\n",
      "\n",
      "app = AnyPyProcess(anybodycon_path = 'C:\\\\Program Files\\\\AnyBody Technology\\\\AnyBody.6.0\\\\AnyBodyCon.exe',\n",
      "                   num_processes = 5,\n",
      "                   disp = True)\n"
     ],
     "language": "python",
     "metadata": {},
     "outputs": [],
     "prompt_number": 101
    },
    {
     "cell_type": "markdown",
     "metadata": {},
     "source": [
      "# Kinematics"
     ]
    },
    {
     "cell_type": "markdown",
     "metadata": {},
     "source": [
      "### Anatomical Scaled Model"
     ]
    },
    {
     "cell_type": "code",
     "collapsed": false,
     "input": [
      "mg = MacroGenerator()\n",
      "\n",
      "mg.add_load('Kinematics.main.any', path_kw = anatomic_model_path)\n",
      "mg.add_run_operation('Main.Load_JointTrialParameters')\n",
      "mg.add_run_operation('Main.JntParameterOptModel.KinematicStudy.Kinematics')\n",
      "mg.add_run_operation('Main.JntParameterOptModel.SaveKinOutputToH5File')\n",
      "app.start_macro(mg.generate_macros(), gait_trials );"
     ],
     "language": "python",
     "metadata": {},
     "outputs": [
      {
       "output_type": "stream",
       "stream": "stdout",
       "text": [
        "\r",
        " [****************100%******************]  5 of 5 complete"
       ]
      },
      {
       "output_type": "stream",
       "stream": "stdout",
       "text": [
        "\n"
       ]
      },
      {
       "html": [
        "Total time: 29 seconds"
       ],
       "metadata": {},
       "output_type": "display_data",
       "text": [
        "<IPython.core.display.HTML at 0x9e67b38>"
       ]
      }
     ],
     "prompt_number": 103
    },
    {
     "cell_type": "code",
     "collapsed": false,
     "input": [
      "mg = MacroGenerator()\n",
      "mg.add_load('FootPosition.main.any', path_kw = anatomic_model_path)\n",
      "mg.add_run_operation('Main.RunApplication')\n",
      "\n",
      "app.start_macro(mg.generate_macros(), static_trials );"
     ],
     "language": "python",
     "metadata": {},
     "outputs": [
      {
       "output_type": "stream",
       "stream": "stdout",
       "text": [
        "\r",
        " [****************100%******************]  1 of 1 complete"
       ]
      },
      {
       "output_type": "stream",
       "stream": "stdout",
       "text": [
        "\n"
       ]
      },
      {
       "html": [
        "Total time: 4 seconds"
       ],
       "metadata": {},
       "output_type": "display_data",
       "text": [
        "<IPython.core.display.HTML at 0x986ceb8>"
       ]
      }
     ],
     "prompt_number": 104
    },
    {
     "cell_type": "markdown",
     "metadata": {},
     "source": [
      "###Kinematically scaled model"
     ]
    },
    {
     "cell_type": "markdown",
     "metadata": {},
     "source": [
      "#### Run joint trial"
     ]
    },
    {
     "cell_type": "code",
     "collapsed": false,
     "input": [
      "mg = MacroGenerator()\n",
      "mg.add_load('Kinematics.main.any')\n",
      "mg.add_run_operation('Main.JntParameterOptModel.AnatomicalStickFigureValues.Load_AnatomicalParameters')\n",
      "mg.add_run_operation('Main.Run_Kinematic_Optimization')"
     ],
     "language": "python",
     "metadata": {},
     "outputs": [],
     "prompt_number": 96
    },
    {
     "cell_type": "code",
     "collapsed": false,
     "input": [
      "# Run single joint trials\n",
      "app.start_macro(mg.generate_macros(), joint_trials, '(ankle|hip)' );"
     ],
     "language": "python",
     "metadata": {},
     "outputs": [
      {
       "output_type": "stream",
       "stream": "stdout",
       "text": [
        "\r",
        " [****************100%******************]  6 of 6 complete"
       ]
      },
      {
       "output_type": "stream",
       "stream": "stdout",
       "text": [
        "\n"
       ]
      },
      {
       "html": [
        "Total time: 59 seconds"
       ],
       "metadata": {},
       "output_type": "display_data",
       "text": [
        "<IPython.core.display.HTML at 0x9d7ac88>"
       ]
      }
     ],
     "prompt_number": 97
    },
    {
     "cell_type": "code",
     "collapsed": false,
     "input": [
      "# Run Multi joint trials \n",
      "app.start_macro(mg.generate_macros(), joint_trials, 'ngait' );"
     ],
     "language": "python",
     "metadata": {},
     "outputs": [
      {
       "output_type": "stream",
       "stream": "stdout",
       "text": [
        "\r",
        " [****************100%******************]  5 of 5 complete"
       ]
      },
      {
       "output_type": "stream",
       "stream": "stdout",
       "text": [
        "\n"
       ]
      },
      {
       "html": [
        "Total time: 99 seconds"
       ],
       "metadata": {},
       "output_type": "display_data",
       "text": [
        "<IPython.core.display.HTML at 0x986cc88>"
       ]
      }
     ],
     "prompt_number": 65
    },
    {
     "cell_type": "markdown",
     "metadata": {},
     "source": [
      "##### Run kinematic trials"
     ]
    },
    {
     "cell_type": "code",
     "collapsed": false,
     "input": [
      "mg = MacroGenerator()\n",
      "mg.add_load('Kinematics.main.any', path_kw = kinematic_model_path)\n",
      "mg.add_run_operation('Main.Load_JointTrialParameters')\n",
      "mg.add_run_operation('Main.JntParameterOptModel.KinematicStudy.Kinematics')\n",
      "mg.add_run_operation('Main.JntParameterOptModel.SaveKinOutputToH5File')\n",
      "macro = mg.generate_macros()\n",
      "\n",
      "app.start_macro(macro, gait_trials );\n"
     ],
     "language": "python",
     "metadata": {},
     "outputs": [
      {
       "output_type": "stream",
       "stream": "stdout",
       "text": [
        "\r",
        " [****************100%******************]  5 of 5 complete"
       ]
      },
      {
       "output_type": "stream",
       "stream": "stdout",
       "text": [
        "\n"
       ]
      },
      {
       "html": [
        "Total time: 26 seconds"
       ],
       "metadata": {},
       "output_type": "display_data",
       "text": [
        "<IPython.core.display.HTML at 0x9767b38>"
       ]
      }
     ],
     "prompt_number": 78
    },
    {
     "cell_type": "markdown",
     "metadata": {},
     "source": [
      "##### Run foot position model"
     ]
    },
    {
     "cell_type": "code",
     "collapsed": false,
     "input": [
      "mg = MacroGenerator()\n",
      "mg.add_load('FootPosition.main.any', path_kw = kinematic_model_path )\n",
      "mg.add_run_operation('Main.RunApplication')\n",
      "macro = mg.generate_macros()\n",
      "\n",
      "app.start_macro(macro, static_trials );"
     ],
     "language": "python",
     "metadata": {},
     "outputs": [
      {
       "output_type": "stream",
       "stream": "stdout",
       "text": [
        "\r",
        " [****************100%******************]  1 of 1 complete"
       ]
      },
      {
       "output_type": "stream",
       "stream": "stdout",
       "text": [
        "\n"
       ]
      },
      {
       "html": [
        "Total time: 4 seconds"
       ],
       "metadata": {},
       "output_type": "display_data",
       "text": [
        "<IPython.core.display.HTML at 0x9e6ffd0>"
       ]
      }
     ],
     "prompt_number": 98
    },
    {
     "cell_type": "markdown",
     "metadata": {},
     "source": [
      "##### Run static marker frame registration\n",
      "Note... This will only work if the python is installed for the right version of anybody... "
     ]
    },
    {
     "cell_type": "code",
     "collapsed": false,
     "input": [
      "mg = MacroGenerator()\n",
      "mg.add_load('FindStaticMarkerPos.main.any', path_kw = kinematic_model_path)\n",
      "mg.add_run_operation('Main.CalculateStaticCoordinateSystems')\n",
      "macro = mg.generate_macros()\n",
      "\n",
      "app.start_macro(macro, static_trials );"
     ],
     "language": "python",
     "metadata": {},
     "outputs": [
      {
       "output_type": "stream",
       "stream": "stdout",
       "text": [
        "\r",
        " [****************100%******************]  1 of 1 complete"
       ]
      },
      {
       "output_type": "stream",
       "stream": "stdout",
       "text": [
        "\n"
       ]
      },
      {
       "html": [
        "Total time: 4 seconds"
       ],
       "metadata": {},
       "output_type": "display_data",
       "text": [
        "<IPython.core.display.HTML at 0x9e67da0>"
       ]
      }
     ],
     "prompt_number": 105
    },
    {
     "cell_type": "markdown",
     "metadata": {},
     "source": [
      "### Linearly scaled model"
     ]
    },
    {
     "cell_type": "code",
     "collapsed": false,
     "input": [
      "mg = MacroGenerator()\n",
      "mg.add_load('Kinematics.main.any', path_kw = linear_model_path)\n",
      "mg.add_run_operation('Main.RunMotionAndParameterOptimizationSequence')\n",
      "mg.add_run_operation('Main.SaveResults')\n",
      "macro = mg.generate_macros()\n",
      "\n",
      "app.start_macro(macro, gait_trials );"
     ],
     "language": "python",
     "metadata": {},
     "outputs": [
      {
       "output_type": "stream",
       "stream": "stdout",
       "text": [
        "\r",
        " [****************100%******************]  5 of 5 complete"
       ]
      },
      {
       "output_type": "stream",
       "stream": "stdout",
       "text": [
        "\n"
       ]
      },
      {
       "html": [
        "Total time: 556 seconds"
       ],
       "metadata": {},
       "output_type": "display_data",
       "text": [
        "<IPython.core.display.HTML at 0x986c208>"
       ]
      }
     ],
     "prompt_number": 106
    },
    {
     "cell_type": "code",
     "collapsed": false,
     "input": [
      "mg = MacroGenerator()\n",
      "mg.add_load('FindStaticMarkerPos.main.any', path_kw = linear_model_path)\n",
      "mg.add_run_operation('Main.CalculateStaticCoordinateSystemsALL')\n",
      "macro = mg.generate_macros()\n",
      "\n",
      "app.start_macro(macro, static_trials);"
     ],
     "language": "python",
     "metadata": {},
     "outputs": [
      {
       "output_type": "stream",
       "stream": "stdout",
       "text": [
        "\r",
        " [****************100%******************]  1 of 1 complete"
       ]
      },
      {
       "output_type": "stream",
       "stream": "stdout",
       "text": [
        "\n"
       ]
      },
      {
       "html": [
        "Total time: 15 seconds"
       ],
       "metadata": {},
       "output_type": "display_data",
       "text": [
        "<IPython.core.display.HTML at 0x9e6f630>"
       ]
      },
      {
       "metadata": {},
       "output_type": "pyout",
       "prompt_number": 109,
       "text": [
        "[{}]"
       ]
      }
     ],
     "prompt_number": 109
    },
    {
     "cell_type": "markdown",
     "metadata": {},
     "source": [
      "## INVERSE DYNAMICS"
     ]
    },
    {
     "cell_type": "code",
     "collapsed": false,
     "input": [
      "kinematic_model_path['H5_OUTPUT'] = os.path.join(outputfolder,'kinematic_scaled_model/inversedynamics') }\n",
      "linear_model_path['H5_OUTPUT'] = os.path.join(outputfolder,'lin_scaled_model/inversedynamics') }\n",
      "anatomic_model_path['H5_OUTPUT'] = os.path.join(outputfolder,'anatomical_landmark_model/inversedynamics') }"
     ],
     "language": "python",
     "metadata": {},
     "outputs": []
    },
    {
     "cell_type": "markdown",
     "metadata": {},
     "source": [
      "#### Anatomical Scaled Model"
     ]
    },
    {
     "cell_type": "code",
     "collapsed": false,
     "input": [
      "mg = MacroGenerator()\n",
      "mg.add_load('InversDynamics.main.any', path_kw = anatomic_model_path)\n",
      "mg.add_run_operation('Main.Load_JointTrialParameters')\n",
      "mg.add_run_operation('Main.LoadFootJointAxis')\n",
      "mg.add_run_operation('Main.AnyBodyGaitAppModel.InverseDynamicStudy.InitialConditions')\n",
      "mg.add_run_operation('Main.AnyBodyGaitAppModel.HumanModel.Calibration.CalibrationSequence')\n",
      "mg.add_run_operation('Main.AnyBodyGaitAppModel.InverseDynamicStudy.InverseDynamics')\n",
      "mg.add_run_operation('Main.SaveOutputToH5File')\n",
      "macro = mg.generate_macros()\n",
      "\n",
      "app.start_macro(macro, gait_trials);"
     ],
     "language": "python",
     "metadata": {},
     "outputs": []
    },
    {
     "cell_type": "markdown",
     "metadata": {},
     "source": [
      "####Kinematically scaled model"
     ]
    },
    {
     "cell_type": "code",
     "collapsed": false,
     "input": [
      "mg = MacroGenerator()\n",
      "mg.add_load('InversDynamics.main.any', path_kw = kinematic_model_path)\n",
      "mg.add_run_operation('Main.Load_JointTrialParameters')\n",
      "mg.add_run_operation('Main.LoadFootJointAxis')\n",
      "mg.add_run_operation('LoadStaticMarkerFrames')\n",
      "mg.add_update_values()\n",
      "mg.add_run_operation('Main.AnyBodyGaitAppModel.InverseDynamicStudy.InitialConditions')\n",
      "mg.add_run_operation('Main.AnyBodyGaitAppModel.HumanModel.Calibration.CalibrationSequence')\n",
      "mg.add_run_operation('Main.AnyBodyGaitAppModel.InverseDynamicStudy.InverseDynamics')\n",
      "mg.add_run_operation('Main.SaveOutputToH5File')\n",
      "macro = mg.generate_macros()\n",
      "\n",
      "app.start_macro(macro, gait_trials);"
     ],
     "language": "python",
     "metadata": {},
     "outputs": []
    },
    {
     "cell_type": "markdown",
     "metadata": {},
     "source": [
      "#### Linearly scaled model"
     ]
    },
    {
     "cell_type": "code",
     "collapsed": false,
     "input": [
      "mg = MacroGenerator()\n",
      "mg.add_load('InversDynamics.main.any', path_kw = linear_model_path)\n",
      "mg.add_run_operation('Main.InverseDynamicAnalysisSequence')\n",
      "mg.add_run_operation('Main.SaveResults')\n",
      "macro = mg.generate_macros()\n",
      "\n",
      "app.start_macro(macro, gait_trials);"
     ],
     "language": "python",
     "metadata": {},
     "outputs": []
    },
    {
     "cell_type": "code",
     "collapsed": false,
     "input": [],
     "language": "python",
     "metadata": {},
     "outputs": [],
     "prompt_number": 62
    }
   ],
   "metadata": {}
  }
 ]
}