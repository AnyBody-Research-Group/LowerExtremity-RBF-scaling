{
 "metadata": {
  "name": "",
  "signature": "sha256:90d0ad8ba6e7cd88be25b39df918ec4ae5a0cd15c02a4392e03f9ff2518c4bf3"
 },
 "nbformat": 3,
 "nbformat_minor": 0,
 "worksheets": [
  {
   "cells": [
    {
     "cell_type": "code",
     "collapsed": false,
     "input": [
      "import os\n",
      "import os.path as op\n",
      "import numpy as np\n",
      "from anypytools.generate_macros import MacroGenerator, MonteCarloMacroGenerator\n",
      "from anypytools.abcutils import AnyPyProcess\n",
      "\n",
      "basefolder = os.path.expanduser('~/Documents/GitHub/LowerExtremity-RBF-scaling')\n",
      "trialfolder =  os.path.join(basefolder, 'Subjects/SC/Gait Trials/SC_ngait_og5')\n",
      "modelfolder = os.path.join(basefolder,'LinearScaledModel')\n",
      "statictrial = os.path.join(basefolder,'Subjects/SC/Static Trials/SC_staticfor_again1')\n",
      "\n",
      "workfolder = 'Z:/model_output/Sensitivity study'\n",
      "app = AnyPyProcess( )\n"
     ],
     "language": "python",
     "metadata": {},
     "outputs": [],
     "prompt_number": 2
    },
    {
     "cell_type": "code",
     "collapsed": false,
     "input": [
      "\n",
      "mg = MacroGenerator(number_of_macros=4)\n",
      "pathdef = {'MODEL_TYPE': modelfolder}\n",
      "\n",
      "mg.add_load( op.join(trialfolder,'InversDynamics.main.any'),\n",
      "             path_kw = pathdef )\n",
      "\n",
      "strength_factors =  np.linspace(1,0.3,4).tolist()                              \n",
      "mg.add_set_value('Main.Studies.InverseDynamicStudy.ReduceKneeStrengh.k', strength_factors )\n",
      "mg.add_update_values()\n",
      "mg.add_run_operation('Main.Studies.InverseDynamicStudy.ReduceKneeStrengh')\n",
      "mg.add_run_operation('Main.InverseDynamicAnalysisSequence')\n",
      "\n",
      "dump_vars      = ['HipFlexion.Pos', 'HipAdduction.Pos', 'HipInternalRotation.Pos','KneeFlexion.Pos','KneeAdduction.Pos', \n",
      "                  'KneeInternalRotation.Pos','AnkleDorsiFlexion.Pos', 'AnkleInversion.Pos','AnkleInternalRotation.Pos', \n",
      "                  'HipFlexion.M_Projected', 'HipAdduction.M_Projected','HipInternalRotation.M_Projected','KneeFlexion.M_Projected',\n",
      "                  'KneeAdduction.M_Projected','KneeInternalRotation.M_Projected','AnkleDorsiFlexion.M_Projected',\n",
      "                  'AnkleInversion.M_Projected', 'AnkleInternalRotation.M_Projected'] \n",
      "for var in dump_vars:\n",
      "    mg.add_dump('Main.Studies.InverseDynamicStudy.Output.JointAnglesAndMoments.Left.'+ var)\n",
      "mg.add_dump('Main.Studies.InverseDynamicStudy.Output.Validation.KneeForces.TotalContactForce.cForceBodyWeight')\n",
      "mg.add_dump('Main.Studies.InverseDynamicStudy.Output.Validation.KneeForces.TotalContactForce.mForceBodyWeight')\n",
      "mg.add_dump('Main.Studies.InverseDynamicStudy.Output.Abscissa.t')\n",
      "\n",
      "macro = mg.generate_macros()"
     ],
     "language": "python",
     "metadata": {},
     "outputs": [],
     "prompt_number": 12
    },
    {
     "cell_type": "code",
     "collapsed": false,
     "input": [
      "results = app.start_macro(macro, [workfolder])"
     ],
     "language": "python",
     "metadata": {},
     "outputs": [
      {
       "output_type": "stream",
       "stream": "stdout",
       "text": [
        "\r",
        " [****************100%******************]  4 of 4 complete"
       ]
      },
      {
       "output_type": "stream",
       "stream": "stdout",
       "text": [
        "\n"
       ]
      },
      {
       "html": [
        "Total time: 446 seconds"
       ],
       "metadata": {},
       "output_type": "display_data",
       "text": [
        "<IPython.core.display.HTML at 0x9bc9cc0>"
       ]
      }
     ],
     "prompt_number": 13
    },
    {
     "cell_type": "code",
     "collapsed": false,
     "input": [
      "import plotly.plotly as py  # (New syntax!) tools to communicate with Plotly's server\n",
      "import plotly.tools as tls  # (NEW!) useful Python/Plotly tools \n",
      "from plotly.graph_objs import Scatter, Data, Figure, Line, XAxis, YAxis, Layout\n",
      "\n",
      "my_creds = tls.get_credentials_file()                  # read credentials\n",
      "py.sign_in(my_creds['username'], my_creds['api_key'])  # (New syntax!) Plotly sign in\n",
      "t = 'Main.Studies.InverseDynamicStudy.Output.Abscissa.t'\n",
      "cForceBodyWeight = 'Main.Studies.InverseDynamicStudy.Output.Validation.KneeForces.TotalContactForce.cForceBodyWeight'\n",
      "mForceBodyWeight = 'Main.Studies.InverseDynamicStudy.Output.Validation.KneeForces.TotalContactForce.mForceBodyWeight'\n",
      "\n",
      "\n",
      "curves = [Scatter(name = 'Measured',\n",
      "                  x = results[0][t],\n",
      "                  y = results[0][mForceBodyWeight],\n",
      "                  line = Line(width = 5, color = 'rgba(200,200,200,100)') )]\n",
      "\n",
      "curves.extend([Scatter(name = label,\n",
      "                        x = result[t],\n",
      "                        y = result[cForceBodyWeight])  for (result, label) in zip(results,labels)])\n",
      "\n",
      "layout = Layout(title = 'Knee Strength Factor', \n",
      "                xaxis1 = XAxis(title= 'time (s)'), \n",
      "                yaxis1 = YAxis(title = 'Total knee force (% Body weight)'))\n",
      "\n",
      "py_data = Data(curves)\n",
      "py_fig = Figure()\n",
      "py_fig['data'] = py_data\n",
      "py_fig['layout']= layout\n",
      "\n",
      "py.iplot(py_fig,filename = 'Linearly_scaled_model_ParameterStudy_KneeStrength1',world_readable = False)\n"
     ],
     "language": "python",
     "metadata": {},
     "outputs": [
      {
       "html": [
        "<iframe id=\"igraph\" scrolling=\"no\" style=\"border:none;\"seamless=\"seamless\" src=\"https://plot.ly/~MortenEnemarkLund/4\" height=\"525\" width=\"100%\"></iframe>"
       ],
       "metadata": {},
       "output_type": "display_data",
       "text": [
        "<IPython.core.display.HTML at 0x13a54fd0>"
       ]
      }
     ],
     "prompt_number": 14
    },
    {
     "cell_type": "code",
     "collapsed": false,
     "input": [],
     "language": "python",
     "metadata": {},
     "outputs": []
    }
   ],
   "metadata": {}
  }
 ]
}