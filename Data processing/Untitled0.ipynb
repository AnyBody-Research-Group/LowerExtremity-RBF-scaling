{
 "metadata": {
  "name": "",
  "signature": "sha256:855834d08f0469cdc1f9aca1796ea87b9140c529a59796307d86381b09879157"
 },
 "nbformat": 3,
 "nbformat_minor": 0,
 "worksheets": [
  {
   "cells": [
    {
     "cell_type": "code",
     "collapsed": false,
     "input": [
      "import shelve\n",
      "import numpy as np\n",
      "import plotly.plotly as py  # (New syntax!) tools to communicate with Plotly's server\n",
      "import plotly.tools as tls  # (NEW!) useful Python/Plotly tools \n",
      "from plotly.graph_objs import Scatter, Data, Figure, Line, XAxis, YAxis, Layout, Annotation, Annotations\n",
      "\n",
      "my_creds = tls.get_credentials_file()                  # read credentials\n",
      "py.sign_in(my_creds['username'], my_creds['api_key'])  # (New syntax!) Plotly sign in\n",
      "\n"
     ],
     "language": "python",
     "metadata": {},
     "outputs": [],
     "prompt_number": 87
    },
    {
     "cell_type": "code",
     "collapsed": false,
     "input": [
      "db = shelve.open('Z:/model_output/Sensitivity study/SensitivtyStudyOutput_kenematic_model.db',flag='r')\n",
      "results = db['Results']\n",
      "db.close()\n",
      "\n",
      "ksm_mforce = results[0]['Main.AnyBodyGaitAppModel.InverseDynamicStudy.Output.Validation.KneeForces.TotalContactForce.mForceBodyWeight']\n",
      "\n",
      "amskey = 'Main.AnyBodyGaitAppModel.InverseDynamicStudy.Output.Validation.KneeForces.TotalContactForce.cForceBodyWeight'\n",
      "ksm_cforce = np.column_stack( (res[amskey] for res in results) )\n",
      "ksm_cforce_max = ksm_cforce.max(axis=1)\n",
      "ksm_cforce_min = ksm_cforce.min(axis=1)"
     ],
     "language": "python",
     "metadata": {},
     "outputs": [],
     "prompt_number": 45
    },
    {
     "cell_type": "code",
     "collapsed": false,
     "input": [
      "db = shelve.open('Z:/model_output/Sensitivity study/SensitivtyStudyOutput_anatomic_model.db',flag='r')\n",
      "results = db['Results']\n",
      "db.close()\n",
      "\n",
      "asm_mforce = results[0]['Main.AnyBodyGaitAppModel.InverseDynamicStudy.Output.Validation.KneeForces.TotalContactForce.mForceBodyWeight']\n",
      "\n",
      "amskey = 'Main.AnyBodyGaitAppModel.InverseDynamicStudy.Output.Validation.KneeForces.TotalContactForce.cForceBodyWeight'\n",
      "asm_cforce = np.column_stack( (res[amskey] for res in results) )\n",
      "asm_cforce_max = asm_cforce.max(axis=1)\n",
      "asm_cforce_min = asm_cforce.min(axis=1)"
     ],
     "language": "python",
     "metadata": {},
     "outputs": [],
     "prompt_number": 46
    },
    {
     "cell_type": "code",
     "collapsed": false,
     "input": [
      "db = shelve.open('Z:/model_output/Sensitivity study/SensitivtyStudyOutput_linear_model.db',flag='r')\n",
      "results = db['Results']\n",
      "db.close()\n",
      "\n",
      "lsm_mforce = results[0]['Main.Studies.InverseDynamicStudy.Output.Validation.KneeForces.TotalContactForce.mForceBodyWeight']\n",
      "\n",
      "amskey = 'Main.Studies.InverseDynamicStudy.Output.Validation.KneeForces.TotalContactForce.cForceBodyWeight'\n",
      "lsm_cforce = np.column_stack( (res[amskey] for res in results) )\n",
      "lsm_cforce_max = lsm_cforce.max(axis=1)\n",
      "lsm_cforce_min = lsm_cforce.min(axis=1)"
     ],
     "language": "python",
     "metadata": {},
     "outputs": [],
     "prompt_number": 48
    },
    {
     "cell_type": "code",
     "collapsed": false,
     "input": [
      "# These values are specific to SC_ngait_og5\n",
      "hs1 = 43\n",
      "hs2 = 178\n",
      "col_to = 64\n",
      "col_hs = 109\n",
      "to = 131\n",
      "gaitcycle_percent = np.linspace(0,100, hs2-hs1)\n",
      "\n",
      "# Create Subplot layout and link all y axis to xaxis1\n",
      "py_layout = tls.get_subplots(rows=3, columns=1)['layout']\n",
      "py_layout.pop('xaxis2')\n",
      "py_layout.pop('xaxis3')\n",
      "py_layout['yaxis2'].update(dict(anchor='x1'))\n",
      "py_layout['yaxis3'].update(dict(anchor='x1'))\n",
      "\n",
      "\n",
      "\n",
      "ksm_trace_m = Scatter(name = 'Experimental',\n",
      "                  x = gaitcycle_percent,\n",
      "                  y = ksm_mforce[hs1:hs2+1],\n",
      "                  line = Line(width = 3, color = 'gray') ,\n",
      "                  xaxis='x1',   \n",
      "                  yaxis='y1' )\n",
      "\n",
      "ksm_trace_cmax = Scatter(name = 'Range',\n",
      "                     x = gaitcycle_percent,\n",
      "                     y = ksm_cforce_max[hs1:hs2+1],\n",
      "                     fill = 'tonexty',\n",
      "                     fillcolor = 'rgba(150, 150, 150, 0.3)',\n",
      "                     line = Line(width = 0),\n",
      "                     xaxis='x1',\n",
      "                     yaxis='y1' )\n",
      "\n",
      "ksm_trace_cmin  = Scatter(name = '',\n",
      "                     x = gaitcycle_percent,\n",
      "                     y = ksm_cforce_min[hs1:hs2+1],\n",
      "                     line = Line(width = 0),\n",
      "                     showlegend = False,\n",
      "                     xaxis='x1',\n",
      "                     yaxis='y1' )\n",
      "\n",
      "asm_trace_m = Scatter(name = '',\n",
      "                  x = gaitcycle_percent,\n",
      "                  y = asm_mforce[hs1:hs2+1],\n",
      "                  line = Line(width = 3, color = 'gray') ,\n",
      "                     showlegend = False,\n",
      "                  xaxis='x1',   \n",
      "                  yaxis='y2' )\n",
      "\n",
      "asm_trace_cmax = Scatter(name = '',\n",
      "                     x = gaitcycle_percent,\n",
      "                     y = asm_cforce_max[hs1:hs2+1],\n",
      "                     showlegend = False,\n",
      "                     fillcolor = 'rgba(150, 150, 150, 0.3)',\n",
      "                     fill = 'tonexty',\n",
      "                     line = Line(width = 0),\n",
      "                     xaxis='x1',\n",
      "                     yaxis='y2' )\n",
      "\n",
      "asm_trace_cmin  = Scatter(name = '',\n",
      "                     x = gaitcycle_percent,\n",
      "                     y = asm_cforce_min[hs1:hs2+1],\n",
      "                     showlegend = False,\n",
      "                     line = Line(width = 0),\n",
      "                     xaxis='x1',\n",
      "                     yaxis='y2' )\n",
      "\n",
      "lsm_trace_m = Scatter(name = '',\n",
      "                  x = gaitcycle_percent,\n",
      "                  y = lsm_mforce[hs1:hs2+1],\n",
      "                     showlegend = False,\n",
      "                  line = Line(width = 3, color = 'gray') ,\n",
      "                  xaxis='x1',   \n",
      "                  yaxis='y3' )\n",
      "\n",
      "lsm_trace_cmax = Scatter(name = '',\n",
      "                     x = gaitcycle_percent,\n",
      "                     y = lsm_cforce_max[hs1:hs2+1],\n",
      "                     showlegend = False,\n",
      "                     fill = 'tonexty',\n",
      "                     fillcolor = 'rgba(150, 150, 150, 0.3)',\n",
      "                     line = Line(width = 0),\n",
      "                     xaxis='x1',\n",
      "                     yaxis='y3' )\n",
      "\n",
      "lsm_trace_cmin  = Scatter(name = '',\n",
      "                     x = gaitcycle_percent,\n",
      "                     y = lsm_cforce_min[hs1:hs2+1],\n",
      "                     showlegend = False,\n",
      "                     line = Line(width = 0),\n",
      "                     xaxis='x1',\n",
      "                     yaxis='y3' )\n",
      "    \n",
      "ann = Annotation(text = 'CTO',x=col_to, y= 0.391875, xref='x1', ay =-11 , ax=0)\n",
      "py_layout['annotations'] = Annotations([ann])\n",
      "    \n",
      "try: \n",
      "    # Update the figure with the styling from the GUI\n",
      "    gui_fig = py.get_figure('MortenEnemarkLund', '8')\n",
      "    gui_fig['layout'].update(py_layout)\n",
      "    gui_fig['data'] = Data([ksm_trace_cmin,ksm_trace_cmax,ksm_trace_m,\n",
      "                                 asm_trace_cmin,asm_trace_cmax,asm_trace_m,\n",
      "                                 lsm_trace_cmin,lsm_trace_cmax,lsm_trace_m])\n",
      "    py.iplot(gui_fig,filename = 'KinematicallyScaledModel_TotalKneeForce_MonteCarlo',world_readable = False)\n",
      "except:\n",
      "    py_fig = Figure()\n",
      "    py_fig['layout'] = layout\n",
      "    py_fig['data'] = py_data\n",
      "    py_fig['layout'] = Layout(title = 'test')\n",
      "    py.iplot(py_fig,filename='test', world_readable = False)"
     ],
     "language": "python",
     "metadata": {},
     "outputs": [
      {
       "html": [
        "<iframe id=\"igraph\" scrolling=\"no\" style=\"border:none;\"seamless=\"seamless\" src=\"https://plot.ly/~MortenEnemarkLund/8\" height=\"525\" width=\"100%\"></iframe>"
       ],
       "metadata": {},
       "output_type": "display_data",
       "text": [
        "<IPython.core.display.HTML at 0xdf46710>"
       ]
      }
     ],
     "prompt_number": 97
    },
    {
     "cell_type": "code",
     "collapsed": false,
     "input": [
      "gui_fig = py.get_figure('MortenEnemarkLund', '8')"
     ],
     "language": "python",
     "metadata": {},
     "outputs": [],
     "prompt_number": 74
    },
    {
     "cell_type": "code",
     "collapsed": false,
     "input": [
      "gui_fig.keys()"
     ],
     "language": "python",
     "metadata": {},
     "outputs": [
      {
       "metadata": {},
       "output_type": "pyout",
       "prompt_number": 72,
       "text": [
        "['layout', 'data']"
       ]
      }
     ],
     "prompt_number": 72
    },
    {
     "cell_type": "code",
     "collapsed": false,
     "input": [
      "gui_fig['layout']['annotations']"
     ],
     "language": "python",
     "metadata": {},
     "outputs": [
      {
       "metadata": {},
       "output_type": "pyout",
       "prompt_number": 82,
       "text": [
        "[{'align': 'center',\n",
        "  'arrowcolor': '',\n",
        "  'arrowhead': 6,\n",
        "  'arrowsize': 1,\n",
        "  'arrowwidth': 0,\n",
        "  'ax': 1,\n",
        "  'ay': 11.5,\n",
        "  'bgcolor': 'rgba(0,0,0,0)',\n",
        "  'bordercolor': '',\n",
        "  'borderpad': 1,\n",
        "  'borderwidth': 1,\n",
        "  'font': {'color': '', 'family': '', 'size': 0},\n",
        "  'opacity': 1,\n",
        "  'showarrow': True,\n",
        "  'tag': '',\n",
        "  'text': 'CTO',\n",
        "  'x': 8.588235294117647,\n",
        "  'xanchor': 'auto',\n",
        "  'xref': 'x',\n",
        "  'y': 0.391875,\n",
        "  'yanchor': 'auto',\n",
        "  'yref': 'paper'}]"
       ]
      }
     ],
     "prompt_number": 82
    },
    {
     "cell_type": "code",
     "collapsed": false,
     "input": [],
     "language": "python",
     "metadata": {},
     "outputs": []
    }
   ],
   "metadata": {}
  }
 ]
}